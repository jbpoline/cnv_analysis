{
 "metadata": {
  "name": "",
  "signature": "sha256:948b5c96e341d7dded76462968815676cfdd300f185634f3f83b3268c6b8a654"
 },
 "nbformat": 3,
 "nbformat_minor": 0,
 "worksheets": [
  {
   "cells": [
    {
     "cell_type": "code",
     "collapsed": false,
     "input": [
      "%pylab inline"
     ],
     "language": "python",
     "metadata": {},
     "outputs": [
      {
       "output_type": "stream",
       "stream": "stdout",
       "text": [
        "Populating the interactive namespace from numpy and matplotlib\n"
       ]
      }
     ],
     "prompt_number": 1
    },
    {
     "cell_type": "code",
     "collapsed": false,
     "input": [
      "import numpy as np\n",
      "import scipy.stats as sst\n",
      "import matplotlib.pyplot as plt\n",
      "import os\n",
      "import os.path as osp\n",
      "from __future__ import print_function\n",
      "from __future__ import division\n",
      "import six"
     ],
     "language": "python",
     "metadata": {},
     "outputs": [],
     "prompt_number": 2
    },
    {
     "cell_type": "markdown",
     "metadata": {},
     "source": [
      "## Reading TSV files "
     ]
    },
    {
     "cell_type": "code",
     "collapsed": false,
     "input": [
      "CWD = osp.join(osp.expanduser('~'), 'documents','grants_projects','roberto_projects', \\\n",
      "               'guillaume_huguet_CNV','File_OK')\n",
      "filename = 'Imagen_QC_CIA_MMAP_V2_Annotation.tsv'\n",
      "fullfname = osp.join(CWD, filename)"
     ],
     "language": "python",
     "metadata": {},
     "outputs": [],
     "prompt_number": 3
    },
    {
     "cell_type": "code",
     "collapsed": false,
     "input": [
      "arr = np.loadtxt(fullfname, dtype='str', comments=None, delimiter='\\Tab', \n",
      "                 converters=None, skiprows=0, usecols=None, unpack=False, ndmin=0)"
     ],
     "language": "python",
     "metadata": {},
     "outputs": [],
     "prompt_number": 4
    },
    {
     "cell_type": "code",
     "collapsed": false,
     "input": [
      "EXPECTED_LINES = 19542\n",
      "expected_nb_values = EXPECTED_LINES - 1 \n",
      "assert arr.shape[0] == EXPECTED_LINES\n",
      "line0 = arr[0].split('\\t')\n",
      "print(line0)\n",
      "\n",
      "danger = 'Pvalue_MMAP_V2_sans_intron_and_Intergenic'\n",
      "score = 'SCORE'\n",
      "i_danger = line0.index(danger)\n",
      "i_score = line0.index(score)\n",
      "print(i_danger, i_score)"
     ],
     "language": "python",
     "metadata": {},
     "outputs": [
      {
       "output_type": "stream",
       "stream": "stdout",
       "text": [
        "['IID_projet', 'IID_genotype', 'SampleID', 'CHR de Merge_CIA_610_660_QC', 'START', 'STOP', 'TYPE de Merge_CIA_610_660_QC', 'SCORE', 'ConcatSNP', 'Gene', 'Location', '#Genes', '#Exons', \"5'gene\", \"5'dist(kb)\", \"3'gene\", \"3'dist(kb)\", 'dups(DGV)', 'dels(DGV)', 'total_known_CNVs(DGV)', 'num_papers(DGV)', 'papers', 'hg18_DGV_1%_Mar2010.txt %overlap', 'hg18_Chromosome_band.txt', 'hg18_segdups.txt %overlap', 'hg18_genome_features.txt', 'hg18_genome_features.txt %overlap', 'Pvalue_MMAP_V2_sans_intron_and_Intergenic']\n",
        "27 7\n"
       ]
      }
     ],
     "prompt_number": 5
    },
    {
     "cell_type": "code",
     "collapsed": false,
     "input": [
      "# check that all lines have the same number of tab separated elements \n",
      "larr =  np.asarray([len(arr[i].split('\\t')) for i in range(arr.shape[0])])\n",
      "assert not (larr - larr[0]).any() # all element have the same value "
     ],
     "language": "python",
     "metadata": {},
     "outputs": [],
     "prompt_number": 6
    },
    {
     "cell_type": "code",
     "collapsed": false,
     "input": [
      "dangers = np.asarray([line.split('\\t')[i_danger] for line in arr[1:]])\n",
      "scores = np.asarray([line.split('\\t')[i_score] for line in arr[1:]])\n",
      "# print(np.unique(scores))\n",
      "\n",
      "assert len(dangers) == expected_nb_values\n",
      "assert len(scores) == expected_nb_values"
     ],
     "language": "python",
     "metadata": {},
     "outputs": [],
     "prompt_number": 7
    },
    {
     "cell_type": "markdown",
     "metadata": {},
     "source": [
      "## transforming the \"Pvalue_MMAP_V2_...\" into danger score"
     ]
    },
    {
     "cell_type": "code",
     "collapsed": false,
     "input": [
      "#print(len(scores[danger_not_empty]))\n",
      "#f,b = plt.hist(dangers[danger_not_empty].astype('float'), bin=50)\n",
      "\n",
      "def str2floats(value, sep=',', comma2point=False):\n",
      "    \"\"\"\n",
      "    takes a string with one or several p-values \n",
      "    returns:\n",
      "    combined score dangerosite\n",
      "    \"\"\"\n",
      "    if comma2point:\n",
      "        value = value.replace(',', '.')\n",
      "    lst = value.split(sep)\n",
      "    lst = [l.rstrip().lstrip() for l in lst if (l != '')]\n",
      "    try:\n",
      "        return [float(f) for f in lst]\n",
      "    except:\n",
      "        print(\"value: \", value, \"value.split(sep): \", lst)\n",
      "        raise ValueError\n",
      "\n",
      "def pH1_with_apriori(alpha, pi=0.5, beta=.8):\n",
      "    \"\"\"\n",
      "    Returns the probability of H1 if we know power and a priori\n",
      "    \"\"\"\n",
      "    return (1 - beta) * pi / ((1 - beta) * pi + alpha * (1 - pi))\n",
      "\n",
      "def pH1_simple(alpha, pi=None, beta=None):\n",
      "    \"\"\"\n",
      "    pi and beta unsused:\n",
      "    \"\"\"\n",
      "    return (1. - alpha)\n",
      "    \n",
      "defaultarg = {'pi':0.5, 'beta':0.8}\n",
      "\n",
      "def danger_score(pvalues, pval2score=pH1_simple, argvals=defaultarg):\n",
      "    \"\"\"\n",
      "    take a series of pvalue (one line), return a dangerosity score\n",
      "    \"\"\"\n",
      "    \n",
      "    pvalues = np.asarray(str2floats(pvalues))\n",
      "    \n",
      "    assert np.all( np.logical_and(pvalues <= 1., pvalues >=0)), \\\n",
      "            [pvalues, np.logical_and((pvalues <= 1.), (pvalues >=0))]\n",
      "    \n",
      "    \"\"\" how to combine the p-values?  \n",
      "    I want a score that scales with the number of gene affected. Per gene, if the p is zero, \n",
      "    I want my score to be 1. and if the p value is close to 1, the score should be 0.\n",
      "    To start with, I'm setting the score to be 1-p:\n",
      "        \n",
      "        res = (1. - pvalues).sum()\n",
      "\n",
      "    The problem with this approach: I would like something closer to the probability of \n",
      "    CNV to be true, which requires an apriori on the probablility that the CNV is dangerous, \n",
      "    and the power of the test (leading to the p value that we are using).\n",
      "    \n",
      "        p(CNV dangerous) =  (1 - beta) * pi / ((1 - beta) * pi + alpha * (1 - pi))\n",
      "    \n",
      "    \"\"\"\n",
      "    res = np.asarray([pval2score(p, **argvals) for p in pvalues]).sum()\n",
      "    return res\n",
      "    "
     ],
     "language": "python",
     "metadata": {},
     "outputs": [],
     "prompt_number": 8
    },
    {
     "cell_type": "markdown",
     "metadata": {},
     "source": [
      "### Testing the function danger_score"
     ]
    },
    {
     "cell_type": "code",
     "collapsed": false,
     "input": [
      "def test_danger_score(tests, verbose=True):\n",
      "    \"\"\"\n",
      "    tests: the list of strings that look like \"danger\"\n",
      "    results: expected results\n",
      "    \"\"\"\n",
      "    for idx, test in enumerate(tests):\n",
      "        pstring = test[0]\n",
      "        func = test[1]\n",
      "        arg = test[2]\n",
      "        result = test[3]\n",
      "        status = True\n",
      "        \n",
      "        try:\n",
      "            dger = danger_score(pstring, func, arg)\n",
      "            if verbose: print('dger:',dger)\n",
      "            if abs(dger - result) < np.finfo('float').eps:\n",
      "                pass\n",
      "            else:\n",
      "                if verbose: print(test, \" is failing\", dger, results[idx])\n",
      "                status = False\n",
      "        except:\n",
      "            if result == \"Failed\":\n",
      "                pass\n",
      "            else:\n",
      "                if verbose: print(test, \" is failing\", results[idx])\n",
      "                status = False\n",
      "                \n",
      "    return(status)"
     ],
     "language": "python",
     "metadata": {},
     "outputs": [],
     "prompt_number": 9
    },
    {
     "cell_type": "code",
     "collapsed": false,
     "input": [
      "print(danger_score('1., 0., .5', pH1_with_apriori))\n",
      "print(danger_score('1.', pH1_with_apriori))\n",
      "print(danger_score('1.', pH1_with_apriori, {'pi':0.5, 'beta':0.8}))\n"
     ],
     "language": "python",
     "metadata": {},
     "outputs": [
      {
       "output_type": "stream",
       "stream": "stdout",
       "text": [
        "1.45238095238\n",
        "0.166666666667\n",
        "0.166666666667\n"
       ]
      }
     ],
     "prompt_number": 27
    },
    {
     "cell_type": "code",
     "collapsed": false,
     "input": [
      "one_beta_pi = (1. - defaultarg['beta'])*defaultarg['pi']\n",
      "pH1_res_1 = one_beta_pi / (one_beta_pi + 1. - defaultarg['pi']) \n",
      "assert abs(pH1_res_1 - pH1_with_apriori(1.)) < np.finfo('float').eps\n",
      "\n",
      "tests = [('1., 0., .5', pH1_simple, defaultarg,          1.5),\n",
      "         ('.2, -.01',    pH1_simple, defaultarg,         'Failed'),\n",
      "         ('0.1, 0.1, .8',pH1_simple, defaultarg,         2.), \n",
      "         ('.0',          pH1_simple, defaultarg,         1.),\n",
      "         ('.0',          pH1_with_apriori, defaultarg,   1.),\n",
      "         ('1.',          pH1_with_apriori, defaultarg,   pH1_res_1)]\n",
      "\n",
      "\n",
      "assert test_danger_score(tests, verbose=False)"
     ],
     "language": "python",
     "metadata": {},
     "outputs": [],
     "prompt_number": 28
    },
    {
     "cell_type": "markdown",
     "metadata": {},
     "source": [
      "__ QUESTION pour Guillaume: __\n",
      "a quoi correspondent les '' dans la colonne \"Pvalue_MMAP_V2_sans_intron_and_Intergenic\" (danger)?\n",
      "\n",
      "Ansewer: cnv for which we have no dangerosity information"
     ]
    },
    {
     "cell_type": "code",
     "collapsed": false,
     "input": [
      "danger_not_empty = dangers != ''\n",
      "danger_scores = dangers[danger_not_empty]\n",
      "danger_scores = np.asarray([danger_score(pstr, pH1_with_apriori) for pstr in danger_scores])"
     ],
     "language": "python",
     "metadata": {},
     "outputs": [],
     "prompt_number": 12
    },
    {
     "cell_type": "code",
     "collapsed": false,
     "input": [
      "print(\"We have {:d} empty score !\".format(EXPECTED_LINES -1 - len(danger_scores)))"
     ],
     "language": "python",
     "metadata": {},
     "outputs": [
      {
       "output_type": "stream",
       "stream": "stdout",
       "text": [
        "We have 12294 empty score !\n"
       ]
      }
     ],
     "prompt_number": 13
    },
    {
     "cell_type": "code",
     "collapsed": false,
     "input": [
      "danger_scores.max()"
     ],
     "language": "python",
     "metadata": {},
     "outputs": [
      {
       "metadata": {},
       "output_type": "pyout",
       "prompt_number": 14,
       "text": [
        "54.989473527662724"
       ]
      }
     ],
     "prompt_number": 14
    },
    {
     "cell_type": "code",
     "collapsed": false,
     "input": [
      "h = plt.hist(danger_scores[danger_scores > sst.scoreatpercentile(danger_scores, 99)], bins=100)"
     ],
     "language": "python",
     "metadata": {},
     "outputs": [
      {
       "metadata": {},
       "output_type": "display_data",
       "png": "[encoded data removed]",
       "text": [
        "<matplotlib.figure.Figure at 0x4657650>"
       ]
      }
     ],
     "prompt_number": 15
    },
    {
     "cell_type": "markdown",
     "metadata": {},
     "source": [
      "## To be or not to be a CNV"
     ]
    },
    {
     "cell_type": "code",
     "collapsed": false,
     "input": [
      "#get the scores\n",
      "scores = np.asarray([line.split('\\t')[i_score] for line in arr[1:]])\n",
      "assert len(scores) == expected_nb_values"
     ],
     "language": "python",
     "metadata": {},
     "outputs": [],
     "prompt_number": 16
    },
    {
     "cell_type": "code",
     "collapsed": false,
     "input": [
      "# show first 42 values\n",
      "scores[:42]"
     ],
     "language": "python",
     "metadata": {},
     "outputs": [
      {
       "metadata": {},
       "output_type": "pyout",
       "prompt_number": 29,
       "text": [
        "array(['22,895', '25,585', '20,001', '39,0099', '26,242', '18,9082',\n",
        "       '17,315', '24,159', '16,194', '20,2939', '17,004', '15,536',\n",
        "       '30,2479', '36,244', '16,533', '17,824', '50,1527', '23,6553',\n",
        "       '287,813', '15,832', '15,4897', '36,6304', '17,393', '18,831',\n",
        "       '29,1864', '41,4116', '48,046', '21,729', '39,27', '16,552',\n",
        "       '41,106', '17,791', '29,5861', '20,6106', '15,3511', '19,854',\n",
        "       '31,982', '18,162', '17,46', '27,8437', '17,4439', '161,354'], \n",
        "      dtype='|S8')"
       ]
      }
     ],
     "prompt_number": 29
    },
    {
     "cell_type": "code",
     "collapsed": false,
     "input": [
      "len(np.unique(scores))"
     ],
     "language": "python",
     "metadata": {},
     "outputs": [
      {
       "metadata": {},
       "output_type": "pyout",
       "prompt_number": 30,
       "text": [
        "14903"
       ]
      }
     ],
     "prompt_number": 30
    },
    {
     "cell_type": "code",
     "collapsed": false,
     "input": [
      "# comma to point for floats\n",
      "tmp = [str2floats(s, comma2point=True)[0] for s in scores]"
     ],
     "language": "python",
     "metadata": {},
     "outputs": [],
     "prompt_number": 31
    },
    {
     "cell_type": "code",
     "collapsed": false,
     "input": [
      "a = [print(scores[i], tmp[i]) for i in range(1400,1410)]"
     ],
     "language": "python",
     "metadata": {},
     "outputs": [
      {
       "output_type": "stream",
       "stream": "stdout",
       "text": [
        "15,534 15.534\n",
        "18,383 18.383\n",
        "15,186 15.186\n",
        "15,857 15.857\n",
        "27,779 27.779\n",
        "26,9692 26.9692\n",
        "154,984 154.984\n",
        "15,245 15.245\n",
        "34,422 34.422\n",
        "18,911 18.911\n"
       ]
      }
     ],
     "prompt_number": 32
    },
    {
     "cell_type": "code",
     "collapsed": false,
     "input": [
      "#h = plt.hist(tmp, bins=100)\n",
      "tmp = np.asarray(tmp)\n",
      "print(tmp.shape)\n",
      "assert tmp.shape[0] == EXPECTED_LINES - 1 \n",
      "# h = plt.hist(tmp[tmp < sst.scoreatpercentile(tmp, 95)], bins=100)"
     ],
     "language": "python",
     "metadata": {},
     "outputs": [
      {
       "output_type": "stream",
       "stream": "stdout",
       "text": [
        "(19541,)\n"
       ]
      }
     ],
     "prompt_number": 33
    },
    {
     "cell_type": "code",
     "collapsed": false,
     "input": [
      "h = plt.hist(tmp[tmp > sst.scoreatpercentile(tmp, 99)], bins=100)"
     ],
     "language": "python",
     "metadata": {},
     "outputs": [
      {
       "metadata": {},
       "output_type": "display_data",
       "png": "[encoded data removed]",
       "text": [
        "<matplotlib.figure.Figure at 0x4936650>"
       ]
      }
     ],
     "prompt_number": 34
    },
    {
     "cell_type": "code",
     "collapsed": false,
     "input": [
      "h = plt.hist(tmp[tmp < 50], bins=100)"
     ],
     "language": "python",
     "metadata": {},
     "outputs": [
      {
       "metadata": {},
       "output_type": "display_data",
       "png": "[encoded data removed]",
       "text": [
        "<matplotlib.figure.Figure at 0x4c93790>"
       ]
      }
     ],
     "prompt_number": 35
    },
    {
     "cell_type": "code",
     "collapsed": false,
     "input": [
      "print(\"# CNV with score == 0.: \", (tmp==0.).sum())\n",
      "print(\"# CNV with score >=15 < 17.5 : \", np.logical_and(tmp >= 15., tmp < 17.5).sum())\n",
      "tmp.max()"
     ],
     "language": "python",
     "metadata": {},
     "outputs": [
      {
       "output_type": "stream",
       "stream": "stdout",
       "text": [
        "# CNV with score == 0.:  27\n",
        "# CNV with score >=15 < 17.5 :  5202\n"
       ]
      },
      {
       "metadata": {},
       "output_type": "pyout",
       "prompt_number": 36,
       "text": [
        "3588.2600000000002"
       ]
      }
     ],
     "prompt_number": 36
    },
    {
     "cell_type": "markdown",
     "metadata": {},
     "source": [
      "__QUESTION Guillaume:__\n",
      "\n",
      "Y a t il seulement 27 CNV qui ont un score de \"zero\" ?"
     ]
    },
    {
     "cell_type": "code",
     "collapsed": false,
     "input": [
      "# if the score is zero, put it to maximum value : it means the CNV has a maximum score\n",
      "clean_score = tmp\n",
      "clean_score[tmp==0.] = tmp.max()\n",
      "h = plt.hist(tmp[tmp < 60], bins=100)"
     ],
     "language": "python",
     "metadata": {},
     "outputs": [
      {
       "metadata": {},
       "output_type": "display_data",
       "png": "[encoded data removed]",
       "text": [
        "<matplotlib.figure.Figure at 0x3f25e50>"
       ]
      }
     ],
     "prompt_number": 37
    },
    {
     "cell_type": "markdown",
     "metadata": {},
     "source": [
      "### transforms the scores into P(cnv is real)"
     ]
    },
    {
     "cell_type": "code",
     "collapsed": false,
     "input": [
      "# from a copy paste of CNV_scores.xlsx\n",
      "\n",
      "prob_cnv_vrai = \\\n",
      "\"\"\"15\t20\t80\t25\n",
      "17,5\t24\t76\t25\n",
      "20\t36\t64\t25\n",
      "22,5\t44\t56\t25\n",
      "25\t83\t17\t60\n",
      "27,5\t77\t23\t44\n",
      "30\t95\t5\t60\n",
      "\"\"\""
     ],
     "language": "python",
     "metadata": {},
     "outputs": [],
     "prompt_number": 39
    },
    {
     "cell_type": "markdown",
     "metadata": {},
     "source": [
      "__ QUESTION Guillaume__ :\n",
      "\n",
      "25 -> 27.5 : 83% true\n",
      "\n",
      "27.5 -> 30 : 77% true\n",
      "\n",
      "Y a t-il eu inversion ? ou s'agit il de bruit ? Reponse : il s'agit de bruit."
     ]
    },
    {
     "cell_type": "code",
     "collapsed": false,
     "input": [
      "from collections import OrderedDict\n",
      "\n",
      "p_cnv = OrderedDict({})\n",
      "for line in prob_cnv_vrai.splitlines():\n",
      "    line = line.split('\\t')\n",
      "    # print(line)\n",
      "    p_cnv[float(line[0].replace(',','.'))] = float(line[1])/100.\n",
      "\n",
      "    \n",
      "# if model with linear piecewise\n",
      "# p_cnv[45.] = 1.\n",
      "# CORRECTION for a possible inversion - or simply \"smooth\" the curve !\n",
      "# p_cnv[25], p_cnv[27.5] = p_cnv[27.5] , p_cnv[25]\n",
      "\n",
      "print(p_cnv)"
     ],
     "language": "python",
     "metadata": {},
     "outputs": [
      {
       "output_type": "stream",
       "stream": "stdout",
       "text": [
        "OrderedDict([(15.0, 0.2), (17.5, 0.24), (20.0, 0.36), (22.5, 0.44), (25.0, 0.83), (27.5, 0.77), (30.0, 0.95)])\n"
       ]
      }
     ],
     "prompt_number": 40
    },
    {
     "cell_type": "markdown",
     "metadata": {},
     "source": [
      "__QUESTION Guillaume__\n",
      "\n",
      "The last interval -- the one for which proba is 95.0 -- is [30.0, 32.5) ?"
     ]
    },
    {
     "cell_type": "heading",
     "level": 3,
     "metadata": {},
     "source": [
      "Creating a function from score to proba from Guillaume's values"
     ]
    },
    {
     "cell_type": "heading",
     "level": 4,
     "metadata": {},
     "source": [
      "A piece wise linear function "
     ]
    },
    {
     "cell_type": "code",
     "collapsed": false,
     "input": [
      "# Solution 1 : affine by pieces \n",
      "def aff(bi, bs, vbi, vbs, x0, y0):\n",
      "    \"\"\"\n",
      "    returns the affine function\n",
      "    \"\"\"\n",
      "    a = (vbs - vbi)/(bs - bi)\n",
      "    b = y0  - a*x0\n",
      "    \n",
      "    def this_aff(x):\n",
      "        return a*x + b\n",
      "    \n",
      "    return this_aff\n",
      "\n",
      "def create_score2prob(p_cnv):\n",
      "\n",
      "    # create a dict that has the affine function\n",
      "    pf_cnv = OrderedDict({})\n",
      "    kcnv = p_cnv.keys()\n",
      "\n",
      "    for idx,k in enumerate(kcnv[:-1]):\n",
      "        k1 = kcnv[idx+1]\n",
      "        pf_cnv[k] = aff(k, k1, p_cnv[k], p_cnv[k1], k, p_cnv[k])\n",
      "    \n",
      "    # testing just this \n",
      "    def test_pf_cnv():\n",
      "        assert pf_cnv[15](15) == .20\n",
      "        assert abs(pf_cnv[15](17.5) - pf_cnv[17.5](17.5)) < np.finfo(float).eps\n",
      "        assert abs(pf_cnv[17.5](20) - pf_cnv[20.](20.)) < np.finfo(float).eps\n",
      "        assert abs(pf_cnv[20.](22.5) - pf_cnv[22.5](22.5)) < np.finfo(float).eps\n",
      "        #assert pf_cnv[30](45) == 1.\n",
      "        return True\n",
      "    test_pf_cnv()\n",
      "    \n",
      "    # function linear piecewise:\n",
      "    def sc2prob(sc):\n",
      "        \"\"\"\n",
      "        returns the proba that cnv with score sc is a cnv; \n",
      "        \"\"\"\n",
      "        # \n",
      "        assert sc >= 15.\n",
      "        kcnv = pf_cnv.keys()\n",
      "        \n",
      "        # if greater than the last key, returns 1.0\n",
      "        if sc >= kcnv[-1]:\n",
      "            return 1.0\n",
      "        \n",
      "        idx = 0\n",
      "        while sc > kcnv[idx+1]: idx += 1\n",
      "        \n",
      "        return pf_cnv[kcnv[idx]](sc)\n",
      "    \n",
      "    return sc2prob\n",
      "    "
     ],
     "language": "python",
     "metadata": {},
     "outputs": [],
     "prompt_number": 41
    },
    {
     "cell_type": "markdown",
     "metadata": {},
     "source": [
      "### TEST score2proba\n"
     ]
    },
    {
     "cell_type": "code",
     "collapsed": false,
     "input": [
      "score2prob = create_score2prob(p_cnv)\n",
      "scores = np.arange(15,50,1)\n",
      "probs = [score2prob(sc) for sc in scores]\n",
      "plt.plot(scores, probs)"
     ],
     "language": "python",
     "metadata": {},
     "outputs": [
      {
       "metadata": {},
       "output_type": "pyout",
       "prompt_number": 46,
       "text": [
        "[<matplotlib.lines.Line2D at 0x4c99290>]"
       ]
      },
      {
       "metadata": {},
       "output_type": "display_data",
       "png": "[encoded data removed]",
       "text": [
        "<matplotlib.figure.Figure at 0x4ece690>"
       ]
      }
     ],
     "prompt_number": 46
    },
    {
     "cell_type": "heading",
     "level": 4,
     "metadata": {},
     "source": [
      "Definition with a corrected regression line"
     ]
    },
    {
     "cell_type": "code",
     "collapsed": false,
     "input": [
      "from scipy.interpolate import UnivariateSpline as spl\n",
      "\n",
      "def create_score2prob_v2(p_cnv):\n",
      "\n",
      "    kpcnv = p_cnv.keys()\n",
      "    lin_funct = spl(kpcnv, p_cnv.values(), k=1)\n",
      "    #x = np.arange(0,50,1)\n",
      "    #plt.plot(x, lin_funct(x), '-', p_cnv.keys(), p_cnv.values(), '+')\n",
      "\n",
      "    (x1, x2) = (kpcnv[0], kpcnv[-1])\n",
      "    a = (lin_funct(x2) - lin_funct(x1))/(x2 - x1)\n",
      "    b = lin_funct(x2) - a*x2\n",
      "    x_where_y_is_1 = (1. - b)/a\n",
      "    x_where_y_is_0 = (-b)/a\n",
      "\n",
      "    \n",
      "    def sc2prob(x):\n",
      "        if x < x_where_y_is_0:\n",
      "            return 0.\n",
      "        elif x < x_where_y_is_1:\n",
      "            return lin_funct(x)\n",
      "        else:\n",
      "            return 1.\n",
      "    \n",
      "    return sc2prob\n",
      "\n",
      "x = np.arange(0,50,1)\n",
      "score2prob = create_score2prob_v2(p_cnv)\n",
      "plt.plot(x, [score2prob(_) for _ in x], '-', p_cnv.keys(), p_cnv.values(), '+')"
     ],
     "language": "python",
     "metadata": {},
     "outputs": [
      {
       "metadata": {},
       "output_type": "pyout",
       "prompt_number": 43,
       "text": [
        "[<matplotlib.lines.Line2D at 0x4dcf790>,\n",
        " <matplotlib.lines.Line2D at 0x4dcfad0>]"
       ]
      },
      {
       "metadata": {},
       "output_type": "display_data",
       "png": "[encoded data removed]",
       "text": [
        "<matplotlib.figure.Figure at 0x4ed1110>"
       ]
      }
     ],
     "prompt_number": 43
    },
    {
     "cell_type": "code",
     "collapsed": false,
     "input": [
      "p_scores = [score2prob(sc) for sc in clean_score]\n",
      "assert len(p_scores) == EXPECTED_LINES -1 "
     ],
     "language": "python",
     "metadata": {},
     "outputs": [],
     "prompt_number": 49
    },
    {
     "cell_type": "markdown",
     "metadata": {},
     "source": [
      "## Finally, putting things together "
     ]
    },
    {
     "cell_type": "code",
     "collapsed": false,
     "input": [
      "# re-loading \n",
      "CWD = osp.join(osp.expanduser('~'), 'documents','grants_projects','roberto_projects', \\\n",
      "               'guillaume_huguet_CNV','File_OK')\n",
      "filename = 'Imagen_QC_CIA_MMAP_V2_Annotation.tsv'\n",
      "fullfname = osp.join(CWD, filename)\n",
      "\n",
      "# in numpy array\n",
      "arr = np.loadtxt(fullfname, dtype='str', comments=None, delimiter='\\Tab', \n",
      "                 converters=None, skiprows=0, usecols=None, unpack=False, ndmin=0)\n",
      "\n",
      "line0 = arr[0].split('\\t')\n",
      "DANGER = 'Pvalue_MMAP_V2_sans_intron_and_Intergenic'\n",
      "SCORE = 'SCORE'\n",
      "\n",
      "i_DANGER = line0.index(DANGER)\n",
      "i_SCORE = line0.index(SCORE)\n",
      "i_START = line0.index('START')\n",
      "i_STOP = line0.index('STOP')\n",
      "i_5pGENE = line0.index(\"5'gene\")\n",
      "i_3pGENE = line0.index(\"3'gene\")\n",
      "i_5pDIST = line0.index(\"5'dist(kb)\")\n",
      "i_3pDIST = line0.index(\"3'dist(kb)\")\n",
      "#i_LOC = line0.index('Location')\n",
      "\n",
      "for idx in range(len(line0)):\n",
      "    print(line0[idx],': ', arr[1].split('\\t')[idx])"
     ],
     "language": "python",
     "metadata": {},
     "outputs": [
      {
       "output_type": "stream",
       "stream": "stdout",
       "text": [
        "IID_projet :  000067227272\n",
        "IID_genotype :  67227272\n",
        "SampleID :  67227272-660Wq\n",
        "CHR de Merge_CIA_610_660_QC :  2\n",
        "START :  41092148\n",
        "STOP :  41109046\n",
        "TYPE de Merge_CIA_610_660_QC :  1\n",
        "SCORE :  22,895\n",
        "ConcatSNP :  10\n",
        "Gene :  0\n",
        "Location :  Intergenic\n",
        "#Genes :  0\n",
        "#Exons :  0\n",
        "5'gene :  SLC8A1\n",
        "5'dist(kb) :  499,069\n",
        "3'gene :  SGK493\n",
        "3'dist(kb) :  1019.618\n",
        "dups(DGV) :  13\n",
        "dels(DGV) :  832\n",
        "total_known_CNVs(DGV) :  845\n",
        "num_papers(DGV) :  13\n",
        "papers :  Altshuler et al. (2010), Conrad et al. (2005), Conrad et al. (2009), Itsara et al. (2009), Jakobsson et al. (2008), Matsuzaki et al. (2009), McCarroll et al. (2005), McCarroll et al. (2008), Park et al. (2010), Perry et al. (2008), Shaikh et al. (2009), Wang et al. (2007), de Smith et al. (2007)\n",
        "hg18_DGV_1%_Mar2010.txt %overlap :  73%\n",
        "hg18_Chromosome_band.txt :  2p22.1\n",
        "hg18_segdups.txt %overlap :  0%\n",
        "hg18_genome_features.txt :  0\n",
        "hg18_genome_features.txt %overlap :  0%\n",
        "Pvalue_MMAP_V2_sans_intron_and_Intergenic :  \n"
       ]
      }
     ],
     "prompt_number": 50
    },
    {
     "cell_type": "code",
     "collapsed": false,
     "input": [
      "# A function to create unique identifiers of subj, CNV, etc\n",
      "\n",
      "def cnv_uiid(tsv_arr, columns_names, first_line=None):\n",
      "    \"\"\"\n",
      "    columns_names: list of column names with which the uiid are constructed\n",
      "    returns a list if given the full array, \n",
      "    returns a string if given only one line (and the first line)\n",
      "    \"\"\"\n",
      "    \n",
      "    chr2rm = ''.join([',', '.', ' ']) # others: ['!', '?', ...] ?\n",
      "    \n",
      "    if isinstance(tsv_arr, six.string_types) and (first_line != None):\n",
      "        # assume we are given one line of the tsv array\n",
      "        indexes = [first_line.split('\\t').index(colname) for colname in columns_names]\n",
      "        uiid = '_'.join([(tsv_arr.split('\\t')[ind]).translate(None,chr2rm) for ind in indexes])\n",
      "        \n",
      "    else: \n",
      "        uiid = []\n",
      "        indexes = [tsv_arr[0].split('\\t').index(colname) for colname in columns_names]\n",
      "        for line in tsv_arr[1:]:\n",
      "            ll = line.split('\\t')\n",
      "            uiid.append('_'.join([ll[ind] for ind in indexes]))\n",
      "\n",
      "    return uiid"
     ],
     "language": "python",
     "metadata": {},
     "outputs": [],
     "prompt_number": 51
    },
    {
     "cell_type": "code",
     "collapsed": false,
     "input": [
      "print(line0)"
     ],
     "language": "python",
     "metadata": {},
     "outputs": [
      {
       "output_type": "stream",
       "stream": "stdout",
       "text": [
        "['IID_projet', 'IID_genotype', 'SampleID', 'CHR de Merge_CIA_610_660_QC', 'START', 'STOP', 'TYPE de Merge_CIA_610_660_QC', 'SCORE', 'ConcatSNP', 'Gene', 'Location', '#Genes', '#Exons', \"5'gene\", \"5'dist(kb)\", \"3'gene\", \"3'dist(kb)\", 'dups(DGV)', 'dels(DGV)', 'total_known_CNVs(DGV)', 'num_papers(DGV)', 'papers', 'hg18_DGV_1%_Mar2010.txt %overlap', 'hg18_Chromosome_band.txt', 'hg18_segdups.txt %overlap', 'hg18_genome_features.txt', 'hg18_genome_features.txt %overlap', 'Pvalue_MMAP_V2_sans_intron_and_Intergenic']\n"
       ]
      }
     ],
     "prompt_number": 52
    },
    {
     "cell_type": "code",
     "collapsed": false,
     "input": [
      "#names_from = ['START', 'STOP', \"5'gene\", \"3'gene\", \"5'dist(kb)\", \"3'dist(kb)\"]\n",
      "\n",
      "#---------- ligne uniques:\n",
      "names_from = ['IID_projet', 'IID_genotype', \"CHR de Merge_CIA_610_660_QC\", 'START', 'STOP'] \n",
      "cnv_names = cnv_uiid(arr, names_from)\n",
      "print(\"with names from: \", names_from)\n",
      "print(\"we have {} unique elements out of {} rows in the tsv\".format(\n",
      "                                len(np.unique(cnv_names)), len(cnv_names)))\n",
      "\n",
      "#---------- CNV uniques ? \n",
      "names_from = [\"CHR de Merge_CIA_610_660_QC\", 'START', 'STOP'] \n",
      "cnv_names = cnv_uiid(arr, names_from)\n",
      "print(\"with names from: \", names_from)\n",
      "print(\"we have {} unique elements out of {} rows in the tsv\".format(\n",
      "                                len(np.unique(cnv_names)), len(cnv_names)))\n",
      "\n",
      "#---------- CNV uniques ? \n",
      "\"\"\"\n",
      "names_from = ['START', 'STOP', \"5'gene\", \"3'gene\", \"5'dist(kb)\", \"3'dist(kb)\"]\n",
      "cnv_names = cnv_uiid(arr, names_from)\n",
      "print(\"with names from: \", names_from)\n",
      "print(\"we have {} unique elements out of {} rows in the tsv\".format(\n",
      "                                len(np.unique(cnv_names)), len(cnv_names)))\n",
      "\"\"\"\n",
      "\n",
      "#---------- sujets uniques ? \n",
      "names_from = ['IID_projet'] # , 'IID_genotype'] \n",
      "cnv_names = cnv_uiid(arr, names_from)\n",
      "print(\"with names from: \", names_from)\n",
      "print(\"we have {} unique elements out of {} rows in the tsv\".format(\n",
      "                                len(np.unique(cnv_names)), len(cnv_names)))\n",
      "\n",
      "dangers = np.asarray([line.split('\\t')[i_DANGER] for line in arr[1:]])\n",
      "scores = np.asarray([line.split('\\t')[i_SCORE] for line in arr[1:]])\n",
      "\n",
      "#danger_not_empty = dangers != ''\n",
      "#print(danger_not_empty.sum())\n",
      "#print(len(np.unique(cnv_name)))\n",
      "#print(cnv_name[:10])"
     ],
     "language": "python",
     "metadata": {},
     "outputs": [
      {
       "output_type": "stream",
       "stream": "stdout",
       "text": [
        "with names from:  ['IID_projet', 'IID_genotype', 'CHR de Merge_CIA_610_660_QC', 'START', 'STOP']\n",
        "we have 19541 unique elements out of 19541 rows in the tsv\n",
        "with names from: "
       ]
      },
      {
       "output_type": "stream",
       "stream": "stdout",
       "text": [
        " ['CHR de Merge_CIA_610_660_QC', 'START', 'STOP']\n",
        "we have 7337 unique elements out of 19541 rows in the tsv\n",
        "with names from: "
       ]
      },
      {
       "output_type": "stream",
       "stream": "stdout",
       "text": [
        " ['IID_projet']\n",
        "we have 1712 unique elements out of 19541 rows in the tsv\n"
       ]
      }
     ],
     "prompt_number": 53
    },
    {
     "cell_type": "heading",
     "level": 3,
     "metadata": {},
     "source": [
      "Create a dict of the cnv"
     ]
    },
    {
     "cell_type": "code",
     "collapsed": false,
     "input": [
      "#gene_name_set = set([line.split('\\t')[i_3pGENE] for line in arr[1:]]) | \\\n",
      "#           set([line.split('\\t')[i_5pGENE] for line in arr[1:]])\n",
      "#print('len(gene_name_set): ', len(gene_name_set))\n",
      "\n",
      "# this creates an dict where the keys are unique indentifiers of cnv, values \n",
      "# are (dangerosity, probability_cnv)\n",
      "\n",
      "cnv = OrderedDict({})\n",
      "names_from = ['START', 'STOP', \"5'gene\", \"3'gene\", \"5'dist(kb)\", \"3'dist(kb)\"]\n",
      "\n",
      "for line in arr[1:]:\n",
      "    lline = line.split('\\t')\n",
      "    dgr = lline[i_DANGER]\n",
      "    scr  = lline[i_SCORE]\n",
      "    cnv_iid = cnv_uiid(line, names_from, arr[0])\n",
      "    \n",
      "    if dgr != '':\n",
      "        add_cnv = (danger_score(lline[i_DANGER], pH1_with_apriori),\n",
      "                   score2prob(lline[i_SCORE]))\n",
      "        if cnv_iid in cnv.keys():\n",
      "            cnv[cnv_iid].append(add_cnv)\n",
      "        else:\n",
      "            cnv[cnv_iid] = [add_cnv]"
     ],
     "language": "python",
     "metadata": {},
     "outputs": [],
     "prompt_number": 59
    },
    {
     "cell_type": "code",
     "collapsed": false,
     "input": [
      "__kcnv = cnv.keys()\n",
      "print(len(__kcnv))\n",
      "for _ in __kcnv[3330:3350]:\n",
      "    print(_,': ',cnv[_])"
     ],
     "language": "python",
     "metadata": {},
     "outputs": [
      {
       "output_type": "stream",
       "stream": "stdout",
       "text": [
        "3374\n",
        "995669_1011521_in_in_0_0 :  [(0.99999999999999312, 1.0)]\n",
        "19339596_19429297_in_in_0_0 :  [(3.0, 1.0), (3.0, 1.0), (3.0, 1.0)]\n",
        "19339596_19424781_in_in_0_0 :  [(3.0, 1.0), (3.0, 1.0), (3.0, 1.0), (3.0, 1.0), (3.0, 1.0), (3.0, 1.0), (3.0, 1.0), (3.0, 1.0), (3.0, 1.0), (3.0, 1.0), (3.0, 1.0), (3.0, 1.0)]\n",
        "19343347_19429297_in_in_0_0 :  [(3.0, 1.0)]\n",
        "19345218_19424781_in_in_0_0 :  [(3.0, 1.0)]\n",
        "18328337_18337023_in_in_0_0 :  [(1.0, 1.0), (1.0, 1.0), (1.0, 1.0)]\n",
        "18330428_18337023_in_in_0_0 :  [(1.0, 1.0)]\n",
        "18328337_18358558_in_in_0_0 :  [(2.0, 1.0)]\n",
        "18336781_18400229_in_in_0_0 :  [(3.0, 1.0)]\n",
        "110243431_110339819_in_in_0_0 :  [(1.9999998829812593, 1.0), (1.9999998829812593, 1.0), (1.9999998829812593, 1.0)]\n",
        "14830513_14852044_in_in_0_0 :  [(0.99999999999989209, 1.0), (0.99999999999989209, 1.0), (0.99999999999989209, 1.0)]\n",
        "127888014_127946707_in_in_0_0 :  [(0.99999999999999989, 1.0)]\n",
        "73481452_73512817_in_in_0_0 :  [(0.99999999999998568, 1.0)]\n",
        "48960865_49003996_in_in_0_0 :  [(2.9999999979009999, 1.0)]\n",
        "48951780_48979320_in_in_0_0 :  [(1.9999999996940001, 1.0)]\n",
        "48951780_49000551_in_in_0_0 :  [(3.9999999977480001, 1.0), (3.9999999977480001, 1.0)]\n",
        "48943190_49003996_in_in_0_0 :  [(3.9999999977480001, 1.0)]\n",
        "48943190_49000551_in_in_0_0 :  [(3.9999999977480001, 1.0)]\n",
        "29554843_30085308_in_in_0_0 :  [(26.0, 1.0)]\n",
        "29143717_29172089_in_in_0_0 :  [(1.9999999998241, 1.0)]\n"
       ]
      }
     ],
     "prompt_number": 60
    },
    {
     "cell_type": "code",
     "collapsed": false,
     "input": [
      "#for k in cnv.keys():\n",
      "#    if len(cnv[k]) > 1:\n",
      "#        if len(set([cnv[k][i][0] for i in range(len(cnv[k]))])) > 1:\n",
      "#            pass\n",
      "#            # print(cnv[k])\n",
      "#        #print([t[0] for t in cnv[k]])"
     ],
     "language": "python",
     "metadata": {},
     "outputs": [],
     "prompt_number": 61
    },
    {
     "cell_type": "heading",
     "level": 3,
     "metadata": {},
     "source": [
      "Create a dictionary of the subjects - "
     ]
    },
    {
     "cell_type": "code",
     "collapsed": false,
     "input": [
      "#print(len(arr), line0)"
     ],
     "language": "python",
     "metadata": {},
     "outputs": [],
     "prompt_number": 62
    },
    {
     "cell_type": "code",
     "collapsed": false,
     "input": [
      "cnv = OrderedDict({})\n",
      "#names_from = ['START', 'STOP', \"5'gene\", \"3'gene\", \"5'dist(kb)\", \"3'dist(kb)\"]\n",
      "names_from = ['IID_projet']\n",
      "\n",
      "for line in arr[1:]:\n",
      "    lline = line.split('\\t')\n",
      "    dgr = lline[i_DANGER]\n",
      "    scr  = lline[i_SCORE]\n",
      "    sub_iid = cnv_uiid(line, names_from, arr[0])\n",
      "    \n",
      "    if dgr != '':\n",
      "        add_cnv = (danger_score(lline[i_DANGER], pH1_with_apriori),\n",
      "                   score2prob(lline[i_SCORE]))\n",
      "        if sub_iid in cnv.keys():\n",
      "            cnv[sub_iid].append(add_cnv)\n",
      "        else:\n",
      "            cnv[sub_iid] = [add_cnv]"
     ],
     "language": "python",
     "metadata": {},
     "outputs": [],
     "prompt_number": 64
    },
    {
     "cell_type": "heading",
     "level": 4,
     "metadata": {},
     "source": [
      "Histogram of the number of cnv used to compute dangerosity"
     ]
    },
    {
     "cell_type": "code",
     "collapsed": false,
     "input": [
      "print(len(cnv))\n",
      "nbcnv = [len(cnv[sb]) for sb in cnv]\n",
      "hist = plt.hist(nbcnv, bins=50)\n",
      "print(np.max(np.asarray(nbcnv)))"
     ],
     "language": "python",
     "metadata": {},
     "outputs": [
      {
       "output_type": "stream",
       "stream": "stdout",
       "text": [
        "1656\n",
        "59"
       ]
      },
      {
       "output_type": "stream",
       "stream": "stdout",
       "text": [
        "\n"
       ]
      },
      {
       "metadata": {},
       "output_type": "display_data",
       "png": "[encoded data removed]",
       "text": [
        "<matplotlib.figure.Figure at 0x4a45b90>"
       ]
      }
     ],
     "prompt_number": 66
    },
    {
     "cell_type": "code",
     "collapsed": false,
     "input": [
      "# definition of dangerosity from a list of cnv\n",
      "def dangerosity(listofcnvs):\n",
      "    \"\"\"\n",
      "    inputs: list tuples (danger_score, proba_cnv)\n",
      "    returns: a dangerosity score \n",
      "    \"\"\"\n",
      "    last = -1 #slicing the last \n",
      "    return np.asarray([dgr*prob for (dgr,prob) in listofcnvs]).cumsum()[last]\n",
      "    \n",
      "#for sub in cnv:\n"
     ],
     "language": "python",
     "metadata": {},
     "outputs": [],
     "prompt_number": 68
    },
    {
     "cell_type": "heading",
     "level": 3,
     "metadata": {},
     "source": [
      "Testing dangerosity"
     ]
    },
    {
     "cell_type": "code",
     "collapsed": false,
     "input": [
      "for k in range(1,30, 30):\n",
      "    print(cnv[cnv.keys()[k]], ' yields ', dangerosity(cnv[cnv.keys()[k]]))\n",
      "    \n",
      "test_dangerosity_input = [[(1., .5), (1., .5), (1., .5), (1., .5)],\n",
      "                          [(2., 1.)],\n",
      "                          [(10000., 0.)]]\n",
      "test_dangerosity_output = [2., 2., 0]\n",
      "\n",
      "#print( [dangerosity(icnv) for icnv in test_dangerosity_input]) # == test_dangerosity_output\n",
      "assert( [dangerosity(icnv) for icnv in test_dangerosity_input] == test_dangerosity_output)"
     ],
     "language": "python",
     "metadata": {},
     "outputs": [
      {
       "output_type": "stream",
       "stream": "stdout",
       "text": [
        "[(0.99999942000033648, 1.0), (0.48377137638161954, 1.0), (0.49999999999999989, 1.0), (1.1666666666666665, 1.0)]  yields  3.15043746305\n"
       ]
      }
     ],
     "prompt_number": 69
    },
    {
     "cell_type": "heading",
     "level": 3,
     "metadata": {},
     "source": [
      "Printing out results"
     ]
    },
    {
     "cell_type": "code",
     "collapsed": false,
     "input": [
      "outfile = 'dangerosity_cnv.txt'\n",
      "fulloutfile = osp.join(CWD, outfile)\n",
      "\n",
      "with open(fulloutfile, 'w') as outf:\n",
      "    for sub in cnv:\n",
      "        outf.write(\"\\t\".join([sub, str(dangerosity(cnv[sub]))]) + \"\\n\")"
     ],
     "language": "python",
     "metadata": {},
     "outputs": []
    },
    {
     "cell_type": "code",
     "collapsed": false,
     "input": [],
     "language": "python",
     "metadata": {},
     "outputs": []
    }
   ],
   "metadata": {}
  }
 ]
}