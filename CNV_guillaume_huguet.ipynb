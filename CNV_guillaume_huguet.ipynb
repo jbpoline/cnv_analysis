{
 "metadata": {
  "name": "",
  "signature": "sha256:6ff35d2d8c9c88d10a1b4d2a34c9a3521ac537aa547135436a720bc166209d09"
 },
 "nbformat": 3,
 "nbformat_minor": 0,
 "worksheets": [
  {
   "cells": [
    {
     "cell_type": "code",
     "collapsed": false,
     "input": [
      "%pylab inline"
     ],
     "language": "python",
     "metadata": {},
     "outputs": [
      {
       "output_type": "stream",
       "stream": "stdout",
       "text": [
        "Populating the interactive namespace from numpy and matplotlib\n"
       ]
      }
     ],
     "prompt_number": 1
    },
    {
     "cell_type": "code",
     "collapsed": false,
     "input": [
      "import numpy as np\n",
      "import scipy.stats as sst\n",
      "import matplotlib.pyplot as plt\n",
      "import os\n",
      "import os.path as osp\n",
      "from __future__ import print_function\n",
      "from __future__ import division"
     ],
     "language": "python",
     "metadata": {},
     "outputs": [],
     "prompt_number": 2
    },
    {
     "cell_type": "markdown",
     "metadata": {},
     "source": [
      "## Reading TSV files "
     ]
    },
    {
     "cell_type": "code",
     "collapsed": false,
     "input": [
      "CWD = osp.join(osp.expanduser('~'), 'documents','grants_projects','roberto_projects', \\\n",
      "               'guillaume_huguet_CNV','File_OK')"
     ],
     "language": "python",
     "metadata": {},
     "outputs": [],
     "prompt_number": 3
    },
    {
     "cell_type": "code",
     "collapsed": false,
     "input": [
      "filename = 'Imagen_QC_CIA_MMAP_V2_Annotation.tsv'\n",
      "fullfname = osp.join(CWD, filename)"
     ],
     "language": "python",
     "metadata": {},
     "outputs": [],
     "prompt_number": 4
    },
    {
     "cell_type": "code",
     "collapsed": false,
     "input": [
      "arr = np.loadtxt(fullfname, dtype='str', comments=None, delimiter='\\Tab', \n",
      "                 converters=None, skiprows=0, usecols=None, unpack=False, ndmin=0)"
     ],
     "language": "python",
     "metadata": {},
     "outputs": [],
     "prompt_number": 5
    },
    {
     "cell_type": "code",
     "collapsed": false,
     "input": [
      "EXPECTED_LINES = 19542\n",
      "expected_nb_values = EXPECTED_LINES - 1 \n",
      "assert arr.shape[0] == EXPECTED_LINES\n",
      "line0 = arr[0].split('\\t')\n",
      "print(line0)\n",
      "\n",
      "danger = 'Pvalue_MMAP_V2_sans_intron_and_Intergenic'\n",
      "score = 'SCORE'\n",
      "i_danger = line0.index(danger)\n",
      "i_score = line0.index(score)\n",
      "print(i_danger, i_score)"
     ],
     "language": "python",
     "metadata": {},
     "outputs": [
      {
       "output_type": "stream",
       "stream": "stdout",
       "text": [
        "['IID_projet', 'IID_genotype', 'SampleID', 'CHR de Merge_CIA_610_660_QC', 'START', 'STOP', 'TYPE de Merge_CIA_610_660_QC', 'SCORE', 'ConcatSNP', 'Gene', 'Location', '#Genes', '#Exons', \"5'gene\", \"5'dist(kb)\", \"3'gene\", \"3'dist(kb)\", 'dups(DGV)', 'dels(DGV)', 'total_known_CNVs(DGV)', 'num_papers(DGV)', 'papers', 'hg18_DGV_1%_Mar2010.txt %overlap', 'hg18_Chromosome_band.txt', 'hg18_segdups.txt %overlap', 'hg18_genome_features.txt', 'hg18_genome_features.txt %overlap', 'Pvalue_MMAP_V2_sans_intron_and_Intergenic']\n",
        "27 7\n"
       ]
      }
     ],
     "prompt_number": 6
    },
    {
     "cell_type": "code",
     "collapsed": false,
     "input": [
      "# check that all lines have the same number of tab separated elements \n",
      "larr =  np.asarray([len(arr[i].split('\\t')) for i in range(arr.shape[0])])\n",
      "assert not (larr - larr[0]).any() # all element have the same value "
     ],
     "language": "python",
     "metadata": {},
     "outputs": [],
     "prompt_number": 7
    },
    {
     "cell_type": "code",
     "collapsed": false,
     "input": [
      "dangers = np.asarray([line.split('\\t')[i_danger] for line in arr[1:]])\n",
      "scores = np.asarray([line.split('\\t')[i_score] for line in arr[1:]])\n",
      "# print(np.unique(scores))\n",
      "\n",
      "assert len(dangers) == expected_nb_values\n",
      "assert len(scores) == expected_nb_values"
     ],
     "language": "python",
     "metadata": {},
     "outputs": [],
     "prompt_number": 8
    },
    {
     "cell_type": "markdown",
     "metadata": {},
     "source": [
      "## transforming the \"Pvalue_MMAP_V2_...\" into danger score"
     ]
    },
    {
     "cell_type": "code",
     "collapsed": false,
     "input": [
      "#print(len(scores[danger_not_empty]))\n",
      "#f,b = plt.hist(dangers[danger_not_empty].astype('float'), bin=50)\n",
      "\n",
      "def str2floats(value, sep=',', comma2point=False):\n",
      "    \"\"\"\n",
      "    takes a string with one or several p-values \n",
      "    returns:\n",
      "    combined score dangerosite\n",
      "    \"\"\"\n",
      "    if comma2point:\n",
      "        value.replace(',', '.')\n",
      "    lst = value.split(sep)\n",
      "    lst = [l.rstrip().lstrip() for l in lst if (l != '')]\n",
      "    try:\n",
      "        return [float(f) for f in lst]\n",
      "    except:\n",
      "        print(\"value: \", value, \"value.split(sep): \", lst)\n",
      "        raise ValueError\n",
      "\n",
      "def pH1_with_apriori(alpha, pi=0.5, beta=.8):\n",
      "    return (1 - beta) * pi / ((1 - beta) * pi + alpha * (1 - pi))\n",
      "\n",
      "def pH1_simple(alpha, pi=None, beta=None):\n",
      "    \"\"\"\n",
      "    pi and beta unsused:\n",
      "    \"\"\"\n",
      "    return (1. - alpha)\n",
      "    \n",
      "defaultarg = {'pi':0.5, 'beta':0.8}\n",
      "\n",
      "def danger_score(pvalues, pval2score=pH1_simple, argvals=defaultarg):\n",
      "    \n",
      "    pvalues = np.asarray(str2floats(pvalues))\n",
      "    \n",
      "    assert np.all( np.logical_and(pvalues <= 1., pvalues >=0)), \\\n",
      "            [pvalues, np.logical_and((pvalues <= 1.), (pvalues >=0))]\n",
      "    \n",
      "    \"\"\" how to combine the p-values?  \n",
      "    I want a score that scales with the number of gene affected. Per gene, if the p is zero, \n",
      "    I want my score to be 1. and if the p value is close to 1, the score should be 0.\n",
      "    To start with, I'm setting the score to be 1-p:\n",
      "        \n",
      "        res = (1. - pvalues).sum()\n",
      "\n",
      "    The problem with this approach: I would like something closer to the probability of \n",
      "    CVN to be true, which requires an apriori on the probablility that the CNV is dangerous, \n",
      "    and the power of the test (leading to the p value that we are using).\n",
      "    \n",
      "        p(CNV dangerous) =  (1 - beta) * pi / ((1 - beta) * pi + alpha * (1 - pi))\n",
      "    \n",
      "    \"\"\"\n",
      "    res = np.asarray([pval2score(p, **argvals) for p in pvalues]).sum()\n",
      "    return res\n",
      "    "
     ],
     "language": "python",
     "metadata": {},
     "outputs": [],
     "prompt_number": 40
    },
    {
     "cell_type": "markdown",
     "metadata": {},
     "source": [
      "## Testing the function danger_score"
     ]
    },
    {
     "cell_type": "code",
     "collapsed": false,
     "input": [
      "def test_danger_score(tests, verbose=True):\n",
      "    \"\"\"\n",
      "    tests: the list of strings that look like \"danger\"\n",
      "    results: expected results\n",
      "    \"\"\"\n",
      "    for idx, test in enumerate(tests):\n",
      "        pstring = test[0]\n",
      "        func = test[1]\n",
      "        arg = test[2]\n",
      "        result = test[3]\n",
      "        status = True\n",
      "        \n",
      "        try:\n",
      "            dger = danger_score(pstring, func, arg)\n",
      "            if verbose: print('dger:',dger)\n",
      "            if abs(dger - result) < np.finfo('float').eps:\n",
      "                pass\n",
      "            else:\n",
      "                if verbose: print(test, \" is failing\", dger, results[idx])\n",
      "                status = False\n",
      "        except:\n",
      "            if result == \"Failed\":\n",
      "                pass\n",
      "            else:\n",
      "                if verbose: print(test, \" is failing\", results[idx])\n",
      "                status = False\n",
      "                \n",
      "    return(status)"
     ],
     "language": "python",
     "metadata": {},
     "outputs": [],
     "prompt_number": 41
    },
    {
     "cell_type": "code",
     "collapsed": false,
     "input": [
      "danger_score('1., 0., .5', pH1_with_apriori)\n",
      "danger_score('1.', pH1_with_apriori)\n",
      "danger_score('1.', pH1_with_apriori, {'pi':0.5, 'beta':0.8})\n"
     ],
     "language": "python",
     "metadata": {},
     "outputs": [
      {
       "metadata": {},
       "output_type": "pyout",
       "prompt_number": 42,
       "text": [
        "0.16666666666666663"
       ]
      }
     ],
     "prompt_number": 42
    },
    {
     "cell_type": "code",
     "collapsed": false,
     "input": [
      "print()\n",
      "one_beta_pi = (1. - defaultarg['beta'])*defaultarg['pi']\n",
      "pH1_res_1 = one_beta_pi / (one_beta_pi + 1. - defaultarg['pi']) \n",
      "assert abs(pH1_res_1 - pH1_with_apriori(1.)) < np.finfo('float').eps\n",
      "\n",
      "tests = [('1., 0., .5', pH1_simple, defaultarg,          1.5),\n",
      "         ('.2, -.01',    pH1_simple, defaultarg,         'Failed'),\n",
      "         ('0.1, 0.1, .8',pH1_simple, defaultarg,         2.), \n",
      "         ('.0',          pH1_simple, defaultarg,         1.),\n",
      "         ('.0',          pH1_with_apriori, defaultarg,   1.),\n",
      "         ('1.',          pH1_with_apriori, defaultarg,   pH1_res_1)]\n",
      "\n",
      "\n",
      "assert test_danger_score(tests, verbose=False)"
     ],
     "language": "python",
     "metadata": {},
     "outputs": [
      {
       "output_type": "stream",
       "stream": "stdout",
       "text": [
        "\n"
       ]
      }
     ],
     "prompt_number": 43
    },
    {
     "cell_type": "code",
     "collapsed": false,
     "input": [],
     "language": "python",
     "metadata": {},
     "outputs": [],
     "prompt_number": 43
    },
    {
     "cell_type": "code",
     "collapsed": false,
     "input": [
      "danger_not_empty = dangers != ''\n",
      "danger_scores = dangers[danger_not_empty]\n",
      "danger_scores = np.asarray([danger_score(pstr, pH1_with_apriori) for pstr in danger_scores])"
     ],
     "language": "python",
     "metadata": {},
     "outputs": [],
     "prompt_number": 44
    },
    {
     "cell_type": "code",
     "collapsed": false,
     "input": [
      "danger_scores.max()"
     ],
     "language": "python",
     "metadata": {},
     "outputs": [
      {
       "metadata": {},
       "output_type": "pyout",
       "prompt_number": 50,
       "text": [
        "54.989473527662724"
       ]
      }
     ],
     "prompt_number": 50
    },
    {
     "cell_type": "code",
     "collapsed": false,
     "input": [
      "h = plt.hist(danger_scores[danger_scores > sst.scoreatpercentile(danger_scores, 99)], bins=100)"
     ],
     "language": "python",
     "metadata": {},
     "outputs": [
      {
       "metadata": {},
       "output_type": "display_data",
       "png": "[encoded data removed]",
       "text": [
        "<matplotlib.figure.Figure at 0x48db3d0>"
       ]
      }
     ],
     "prompt_number": 55
    },
    {
     "cell_type": "code",
     "collapsed": false,
     "input": [],
     "language": "python",
     "metadata": {},
     "outputs": []
    }
   ],
   "metadata": {}
  }
 ]
}