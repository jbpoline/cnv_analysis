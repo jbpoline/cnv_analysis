{
 "metadata": {
  "name": "",
  "signature": "sha256:27056da372eccb1c22a157b3589fca5e6fa24a69e797fb0b07c833b5b52dfd82"
 },
 "nbformat": 3,
 "nbformat_minor": 0,
 "worksheets": [
  {
   "cells": [
    {
     "cell_type": "code",
     "collapsed": false,
     "input": [
      "%pylab inline"
     ],
     "language": "python",
     "metadata": {},
     "outputs": [
      {
       "output_type": "stream",
       "stream": "stdout",
       "text": [
        "Populating the interactive namespace from numpy and matplotlib\n"
       ]
      }
     ],
     "prompt_number": 1
    },
    {
     "cell_type": "code",
     "collapsed": false,
     "input": [
      "import numpy as np\n",
      "import scipy.stats as sst\n",
      "import matplotlib.pyplot as plt\n",
      "import os\n",
      "import os.path as osp\n",
      "from __future__ import print_function\n",
      "from __future__ import division"
     ],
     "language": "python",
     "metadata": {},
     "outputs": [],
     "prompt_number": 2
    },
    {
     "cell_type": "markdown",
     "metadata": {},
     "source": [
      "## Reading TSV files "
     ]
    },
    {
     "cell_type": "code",
     "collapsed": false,
     "input": [
      "CWD = osp.join(osp.expanduser('~'), 'documents','grants_projects','roberto_projects', \\\n",
      "               'guillaume_huguet_CNV','File_OK')"
     ],
     "language": "python",
     "metadata": {},
     "outputs": [],
     "prompt_number": 3
    },
    {
     "cell_type": "code",
     "collapsed": false,
     "input": [
      "filename = 'Imagen_QC_CIA_MMAP_V2_Annotation.tsv'\n",
      "fullfname = osp.join(CWD, filename)"
     ],
     "language": "python",
     "metadata": {},
     "outputs": [],
     "prompt_number": 4
    },
    {
     "cell_type": "code",
     "collapsed": false,
     "input": [
      "arr = np.loadtxt(fullfname, dtype='str', comments=None, delimiter='\\Tab', \n",
      "                 converters=None, skiprows=0, usecols=None, unpack=False, ndmin=0)"
     ],
     "language": "python",
     "metadata": {},
     "outputs": [],
     "prompt_number": 5
    },
    {
     "cell_type": "code",
     "collapsed": false,
     "input": [
      "EXPECTED_LINES = 19542\n",
      "expected_nb_values = EXPECTED_LINES - 1 \n",
      "assert arr.shape[0] == EXPECTED_LINES\n",
      "line0 = arr[0].split('\\t')\n",
      "print(line0)\n",
      "\n",
      "danger = 'Pvalue_MMAP_V2_sans_intron_and_Intergenic'\n",
      "score = 'SCORE'\n",
      "i_danger = line0.index(danger)\n",
      "i_score = line0.index(score)\n",
      "print(i_danger, i_score)"
     ],
     "language": "python",
     "metadata": {},
     "outputs": [
      {
       "output_type": "stream",
       "stream": "stdout",
       "text": [
        "['IID_projet', 'IID_genotype', 'SampleID', 'CHR de Merge_CIA_610_660_QC', 'START', 'STOP', 'TYPE de Merge_CIA_610_660_QC', 'SCORE', 'ConcatSNP', 'Gene', 'Location', '#Genes', '#Exons', \"5'gene\", \"5'dist(kb)\", \"3'gene\", \"3'dist(kb)\", 'dups(DGV)', 'dels(DGV)', 'total_known_CNVs(DGV)', 'num_papers(DGV)', 'papers', 'hg18_DGV_1%_Mar2010.txt %overlap', 'hg18_Chromosome_band.txt', 'hg18_segdups.txt %overlap', 'hg18_genome_features.txt', 'hg18_genome_features.txt %overlap', 'Pvalue_MMAP_V2_sans_intron_and_Intergenic']\n",
        "27 7\n"
       ]
      }
     ],
     "prompt_number": 6
    },
    {
     "cell_type": "code",
     "collapsed": false,
     "input": [
      "# check that all lines have the same number of tab separated elements \n",
      "larr =  np.asarray([len(arr[i].split('\\t')) for i in range(arr.shape[0])])\n",
      "assert not (larr - larr[0]).any() # all element have the same value "
     ],
     "language": "python",
     "metadata": {},
     "outputs": [],
     "prompt_number": 7
    },
    {
     "cell_type": "code",
     "collapsed": false,
     "input": [
      "dangers = np.asarray([line.split('\\t')[i_danger] for line in arr[1:]])\n",
      "scores = np.asarray([line.split('\\t')[i_score] for line in arr[1:]])\n",
      "# print(np.unique(scores))\n",
      "\n",
      "assert len(dangers) == expected_nb_values\n",
      "assert len(scores) == expected_nb_values"
     ],
     "language": "python",
     "metadata": {},
     "outputs": [],
     "prompt_number": 8
    },
    {
     "cell_type": "markdown",
     "metadata": {},
     "source": [
      "## transforming the \"Pvalue_MMAP_V2_...\" into danger score"
     ]
    },
    {
     "cell_type": "code",
     "collapsed": false,
     "input": [
      "#print(len(scores[danger_not_empty]))\n",
      "#f,b = plt.hist(dangers[danger_not_empty].astype('float'), bin=50)\n",
      "\n",
      "def str2floats(value, sep=',', comma2point=False):\n",
      "    \"\"\"\n",
      "    takes a string with one or several p-values \n",
      "    returns:\n",
      "    combined score dangerosite\n",
      "    \"\"\"\n",
      "    if comma2point:\n",
      "        value = value.replace(',', '.')\n",
      "    lst = value.split(sep)\n",
      "    lst = [l.rstrip().lstrip() for l in lst if (l != '')]\n",
      "    try:\n",
      "        return [float(f) for f in lst]\n",
      "    except:\n",
      "        print(\"value: \", value, \"value.split(sep): \", lst)\n",
      "        raise ValueError\n",
      "\n",
      "def pH1_with_apriori(alpha, pi=0.5, beta=.8):\n",
      "    return (1 - beta) * pi / ((1 - beta) * pi + alpha * (1 - pi))\n",
      "\n",
      "def pH1_simple(alpha, pi=None, beta=None):\n",
      "    \"\"\"\n",
      "    pi and beta unsused:\n",
      "    \"\"\"\n",
      "    return (1. - alpha)\n",
      "    \n",
      "defaultarg = {'pi':0.5, 'beta':0.8}\n",
      "\n",
      "def danger_score(pvalues, pval2score=pH1_simple, argvals=defaultarg):\n",
      "    \n",
      "    pvalues = np.asarray(str2floats(pvalues))\n",
      "    \n",
      "    assert np.all( np.logical_and(pvalues <= 1., pvalues >=0)), \\\n",
      "            [pvalues, np.logical_and((pvalues <= 1.), (pvalues >=0))]\n",
      "    \n",
      "    \"\"\" how to combine the p-values?  \n",
      "    I want a score that scales with the number of gene affected. Per gene, if the p is zero, \n",
      "    I want my score to be 1. and if the p value is close to 1, the score should be 0.\n",
      "    To start with, I'm setting the score to be 1-p:\n",
      "        \n",
      "        res = (1. - pvalues).sum()\n",
      "\n",
      "    The problem with this approach: I would like something closer to the probability of \n",
      "    CVN to be true, which requires an apriori on the probablility that the CNV is dangerous, \n",
      "    and the power of the test (leading to the p value that we are using).\n",
      "    \n",
      "        p(CNV dangerous) =  (1 - beta) * pi / ((1 - beta) * pi + alpha * (1 - pi))\n",
      "    \n",
      "    \"\"\"\n",
      "    res = np.asarray([pval2score(p, **argvals) for p in pvalues]).sum()\n",
      "    return res\n",
      "    "
     ],
     "language": "python",
     "metadata": {},
     "outputs": [],
     "prompt_number": 9
    },
    {
     "cell_type": "markdown",
     "metadata": {},
     "source": [
      "## Testing the function danger_score"
     ]
    },
    {
     "cell_type": "code",
     "collapsed": false,
     "input": [
      "def test_danger_score(tests, verbose=True):\n",
      "    \"\"\"\n",
      "    tests: the list of strings that look like \"danger\"\n",
      "    results: expected results\n",
      "    \"\"\"\n",
      "    for idx, test in enumerate(tests):\n",
      "        pstring = test[0]\n",
      "        func = test[1]\n",
      "        arg = test[2]\n",
      "        result = test[3]\n",
      "        status = True\n",
      "        \n",
      "        try:\n",
      "            dger = danger_score(pstring, func, arg)\n",
      "            if verbose: print('dger:',dger)\n",
      "            if abs(dger - result) < np.finfo('float').eps:\n",
      "                pass\n",
      "            else:\n",
      "                if verbose: print(test, \" is failing\", dger, results[idx])\n",
      "                status = False\n",
      "        except:\n",
      "            if result == \"Failed\":\n",
      "                pass\n",
      "            else:\n",
      "                if verbose: print(test, \" is failing\", results[idx])\n",
      "                status = False\n",
      "                \n",
      "    return(status)"
     ],
     "language": "python",
     "metadata": {},
     "outputs": [],
     "prompt_number": 10
    },
    {
     "cell_type": "code",
     "collapsed": false,
     "input": [
      "danger_score('1., 0., .5', pH1_with_apriori)\n",
      "danger_score('1.', pH1_with_apriori)\n",
      "danger_score('1.', pH1_with_apriori, {'pi':0.5, 'beta':0.8})\n"
     ],
     "language": "python",
     "metadata": {},
     "outputs": [
      {
       "metadata": {},
       "output_type": "pyout",
       "prompt_number": 11,
       "text": [
        "0.16666666666666663"
       ]
      }
     ],
     "prompt_number": 11
    },
    {
     "cell_type": "code",
     "collapsed": false,
     "input": [
      "print()\n",
      "one_beta_pi = (1. - defaultarg['beta'])*defaultarg['pi']\n",
      "pH1_res_1 = one_beta_pi / (one_beta_pi + 1. - defaultarg['pi']) \n",
      "assert abs(pH1_res_1 - pH1_with_apriori(1.)) < np.finfo('float').eps\n",
      "\n",
      "tests = [('1., 0., .5', pH1_simple, defaultarg,          1.5),\n",
      "         ('.2, -.01',    pH1_simple, defaultarg,         'Failed'),\n",
      "         ('0.1, 0.1, .8',pH1_simple, defaultarg,         2.), \n",
      "         ('.0',          pH1_simple, defaultarg,         1.),\n",
      "         ('.0',          pH1_with_apriori, defaultarg,   1.),\n",
      "         ('1.',          pH1_with_apriori, defaultarg,   pH1_res_1)]\n",
      "\n",
      "\n",
      "assert test_danger_score(tests, verbose=False)"
     ],
     "language": "python",
     "metadata": {},
     "outputs": [
      {
       "output_type": "stream",
       "stream": "stdout",
       "text": [
        "\n"
       ]
      }
     ],
     "prompt_number": 12
    },
    {
     "cell_type": "markdown",
     "metadata": {},
     "source": [
      "__ QUESTION pour Guillaume: __\n",
      "a quoi correspondent les '' dans la colonne \"Pvalue_MMAP_V2_sans_intron_and_Intergenic\" (danger)?"
     ]
    },
    {
     "cell_type": "code",
     "collapsed": false,
     "input": [
      "danger_not_empty = dangers != ''\n",
      "danger_scores = dangers[danger_not_empty]\n",
      "danger_scores = np.asarray([danger_score(pstr, pH1_with_apriori) for pstr in danger_scores])"
     ],
     "language": "python",
     "metadata": {},
     "outputs": [],
     "prompt_number": 13
    },
    {
     "cell_type": "code",
     "collapsed": false,
     "input": [
      "danger_scores.max()"
     ],
     "language": "python",
     "metadata": {},
     "outputs": [
      {
       "metadata": {},
       "output_type": "pyout",
       "prompt_number": 14,
       "text": [
        "54.989473527662724"
       ]
      }
     ],
     "prompt_number": 14
    },
    {
     "cell_type": "code",
     "collapsed": false,
     "input": [
      "h = plt.hist(danger_scores[danger_scores > sst.scoreatpercentile(danger_scores, 99)], bins=100)"
     ],
     "language": "python",
     "metadata": {},
     "outputs": [
      {
       "metadata": {},
       "output_type": "display_data",
       "png": "[encoded data removed]",
       "text": [
        "<matplotlib.figure.Figure at 0x3e850d0>"
       ]
      }
     ],
     "prompt_number": 15
    },
    {
     "cell_type": "markdown",
     "metadata": {},
     "source": [
      "### To be or not to be a CNV"
     ]
    },
    {
     "cell_type": "code",
     "collapsed": false,
     "input": [
      "scores = np.asarray([line.split('\\t')[i_score] for line in arr[1:]])\n",
      "assert len(scores) == expected_nb_values"
     ],
     "language": "python",
     "metadata": {},
     "outputs": [],
     "prompt_number": 16
    },
    {
     "cell_type": "code",
     "collapsed": false,
     "input": [
      "scores[:100]"
     ],
     "language": "python",
     "metadata": {},
     "outputs": [
      {
       "metadata": {},
       "output_type": "pyout",
       "prompt_number": 17,
       "text": [
        "array(['22,895', '25,585', '20,001', '39,0099', '26,242', '18,9082',\n",
        "       '17,315', '24,159', '16,194', '20,2939', '17,004', '15,536',\n",
        "       '30,2479', '36,244', '16,533', '17,824', '50,1527', '23,6553',\n",
        "       '287,813', '15,832', '15,4897', '36,6304', '17,393', '18,831',\n",
        "       '29,1864', '41,4116', '48,046', '21,729', '39,27', '16,552',\n",
        "       '41,106', '17,791', '29,5861', '20,6106', '15,3511', '19,854',\n",
        "       '31,982', '18,162', '17,46', '27,8437', '17,4439', '161,354',\n",
        "       '17,345', '28,4541', '16,268', '28,312', '15,751', '19,129',\n",
        "       '27,6893', '24,142', '27,15', '46,018', '32,442', '25,1878',\n",
        "       '32,373', '21,214', '18,086', '17,26', '55,035', '19,71', '36,335',\n",
        "       '16,95', '17,825', '253,759', '21,62', '20,096', '19,906', '17,216',\n",
        "       '170,368', '29,834', '20,328', '22,8217', '35,644', '27,279',\n",
        "       '19,687', '32,05', '23,989', '170,255', '80,9418', '26,271',\n",
        "       '19,506', '32,765', '40,471', '20,92', '43,672', '18,435',\n",
        "       '27,8279', '121,404', '16,897', '40,959', '16,874', '17,199',\n",
        "       '70,7994', '30,342', '138,041', '27,116', '19,225', '18,408',\n",
        "       '34,458', '22,111'], \n",
        "      dtype='|S8')"
       ]
      }
     ],
     "prompt_number": 17
    },
    {
     "cell_type": "code",
     "collapsed": false,
     "input": [
      "len(np.unique(scores))"
     ],
     "language": "python",
     "metadata": {},
     "outputs": [
      {
       "metadata": {},
       "output_type": "pyout",
       "prompt_number": 18,
       "text": [
        "14903"
       ]
      }
     ],
     "prompt_number": 18
    },
    {
     "cell_type": "code",
     "collapsed": false,
     "input": [
      "tmp = [str2floats(s, comma2point=True)[0] for s in scores]"
     ],
     "language": "python",
     "metadata": {},
     "outputs": [],
     "prompt_number": 19
    },
    {
     "cell_type": "code",
     "collapsed": false,
     "input": [
      "a = [print(scores[i], tmp[i]) for i in range(1400,1420)]"
     ],
     "language": "python",
     "metadata": {},
     "outputs": [
      {
       "output_type": "stream",
       "stream": "stdout",
       "text": [
        "15,534 15.534\n",
        "18,383 18.383\n",
        "15,186 15.186\n",
        "15,857 15.857\n",
        "27,779 27.779\n",
        "26,9692 26.9692\n",
        "154,984 154.984\n",
        "15,245 15.245\n",
        "34,422 34.422\n",
        "18,911 18.911\n",
        "23,15 23.15\n",
        "64,688 64.688\n",
        "16,1809 16.1809\n",
        "35,8281 35.8281\n",
        "15,645 15.645\n",
        "22,184 22.184\n",
        "37,748 37.748\n",
        "56,92 56.92\n",
        "23,873 23.873\n",
        "22,564 22.564\n"
       ]
      }
     ],
     "prompt_number": 20
    },
    {
     "cell_type": "code",
     "collapsed": false,
     "input": [
      "#h = plt.hist(tmp, bins=100)\n",
      "tmp = np.asarray(tmp)\n",
      "print(tmp.shape)\n",
      "assert tmp.shape[0] == EXPECTED_LINES - 1 \n",
      "# h = plt.hist(tmp[tmp < sst.scoreatpercentile(tmp, 95)], bins=100)"
     ],
     "language": "python",
     "metadata": {},
     "outputs": [
      {
       "output_type": "stream",
       "stream": "stdout",
       "text": [
        "(19541,)\n"
       ]
      }
     ],
     "prompt_number": 21
    },
    {
     "cell_type": "code",
     "collapsed": false,
     "input": [
      "h = plt.hist(tmp[tmp > sst.scoreatpercentile(tmp, 99)], bins=100)"
     ],
     "language": "python",
     "metadata": {},
     "outputs": [
      {
       "metadata": {},
       "output_type": "display_data",
       "png": "[encoded data removed]",
       "text": [
        "<matplotlib.figure.Figure at 0x42b3f50>"
       ]
      }
     ],
     "prompt_number": 22
    },
    {
     "cell_type": "code",
     "collapsed": false,
     "input": [
      "h = plt.hist(tmp[tmp < 50], bins=100)"
     ],
     "language": "python",
     "metadata": {},
     "outputs": [
      {
       "metadata": {},
       "output_type": "display_data",
       "png": "[encoded data removed]",
       "text": [
        "<matplotlib.figure.Figure at 0x42baf90>"
       ]
      }
     ],
     "prompt_number": 23
    },
    {
     "cell_type": "code",
     "collapsed": false,
     "input": [
      "print(\"# CNV with score == 0.: \", (tmp==0.).sum())\n",
      "print(\"# CNV with score >=15 < 17.5 : \", np.logical_and(tmp >= 15., tmp < 17.5).sum())\n",
      "tmp.max()"
     ],
     "language": "python",
     "metadata": {},
     "outputs": [
      {
       "output_type": "stream",
       "stream": "stdout",
       "text": [
        "# CNV with score == 0.:  27\n",
        "# CNV with score >=15 < 17.5 :  5202\n"
       ]
      },
      {
       "metadata": {},
       "output_type": "pyout",
       "prompt_number": 24,
       "text": [
        "3588.2600000000002"
       ]
      }
     ],
     "prompt_number": 24
    },
    {
     "cell_type": "markdown",
     "metadata": {},
     "source": [
      "__QUESTION Guillaume:__\n",
      "\n",
      "Y a t il seulement 27 CNV qui ont un score de \"zero\" ?"
     ]
    },
    {
     "cell_type": "code",
     "collapsed": false,
     "input": [
      "clean_score = tmp\n",
      "clean_score[tmp==0.] = tmp.max()\n",
      "h = plt.hist(tmp[tmp < 50], bins=100)"
     ],
     "language": "python",
     "metadata": {},
     "outputs": [
      {
       "metadata": {},
       "output_type": "display_data",
       "png": "[encoded data removed]",
       "text": [
        "<matplotlib.figure.Figure at 0x3763290>"
       ]
      }
     ],
     "prompt_number": 25
    },
    {
     "cell_type": "markdown",
     "metadata": {},
     "source": [
      "### transforms the scores into P(cnv is real)"
     ]
    },
    {
     "cell_type": "code",
     "collapsed": false,
     "input": [
      "# from a copy paste of CNV_scores.xlsx\n",
      "\n",
      "prob_cnv_vrai = \\\n",
      "\"\"\"15\t20\t80\t25\n",
      "17,5\t24\t76\t25\n",
      "20\t36\t64\t25\n",
      "22,5\t44\t56\t25\n",
      "25\t83\t17\t60\n",
      "27,5\t77\t23\t44\n",
      "30\t95\t5\t60\n",
      "\"\"\""
     ],
     "language": "python",
     "metadata": {},
     "outputs": [],
     "prompt_number": 26
    },
    {
     "cell_type": "markdown",
     "metadata": {},
     "source": [
      "__ QUESTION Guillaume__ :\n",
      "\n",
      "25 -> 27.5 : 83% true\n",
      "27.5 -> 30 : 77% true\n",
      "\n",
      "Y a t-il eu inversion ? ou s'agit il de bruit ? "
     ]
    },
    {
     "cell_type": "code",
     "collapsed": false,
     "input": [
      "from collections import OrderedDict\n",
      "\n",
      "p_cvn = OrderedDict({})\n",
      "for line in prob_cnv_vrai.splitlines():\n",
      "    line = line.split('\\t')\n",
      "    # print(line)\n",
      "    p_cvn[float(line[0].replace(',','.'))] = float(line[1])/100.\n",
      "    \n",
      "p_cvn[45.] = 1.\n",
      "\n",
      "# CORRECTION for a possible inversion - or simply \"smooth\" the curve !\n",
      "\n",
      "p_cvn[25], p_cvn[27.5] = p_cvn[27.5] , p_cvn[25]\n",
      "\n",
      "print(p_cvn)"
     ],
     "language": "python",
     "metadata": {},
     "outputs": [
      {
       "output_type": "stream",
       "stream": "stdout",
       "text": [
        "OrderedDict([(15.0, 0.2), (17.5, 0.24), (20.0, 0.36), (22.5, 0.44), (25.0, 0.77), (27.5, 0.83), (30.0, 0.95), (45.0, 1.0)])\n"
       ]
      }
     ],
     "prompt_number": 27
    },
    {
     "cell_type": "code",
     "collapsed": false,
     "input": [
      "# here I decide that above 45 proba is 1.\n",
      "\n",
      "print(p_cvn.keys(), p_cvn.values())\n",
      "print(p_cvn)"
     ],
     "language": "python",
     "metadata": {},
     "outputs": [
      {
       "output_type": "stream",
       "stream": "stdout",
       "text": [
        "[15.0, 17.5, 20.0, 22.5, 25.0, 27.5, 30.0, 45.0] [0.2, 0.24, 0.36, 0.44, 0.77, 0.83, 0.95, 1.0]\n",
        "OrderedDict([(15.0, 0.2), (17.5, 0.24), (20.0, 0.36), (22.5, 0.44), (25.0, 0.77), (27.5, 0.83), (30.0, 0.95), (45.0, 1.0)])\n"
       ]
      }
     ],
     "prompt_number": 28
    },
    {
     "cell_type": "markdown",
     "metadata": {},
     "source": [
      "__QUESTION Guillaume__\n",
      "\n",
      "The last interval -- the one for which proba is 95.0 -- is [30.0, 32.5) ?"
     ]
    },
    {
     "cell_type": "code",
     "collapsed": false,
     "input": [
      "def aff(bi, bs, vbi, vbs, x0, y0):\n",
      "    \"\"\"\n",
      "    returns the affine function\n",
      "    \"\"\"\n",
      "    a = (vbs - vbi)/(bs - bi)\n",
      "    b = y0  - a*x0\n",
      "    \n",
      "    def this_aff(x):\n",
      "        return a*x + b\n",
      "    \n",
      "    return this_aff\n"
     ],
     "language": "python",
     "metadata": {},
     "outputs": [],
     "prompt_number": 29
    },
    {
     "cell_type": "code",
     "collapsed": false,
     "input": [
      "kcnv = p_cvn.keys()\n",
      "\n",
      "# create a dict that has the affine function\n",
      "pf_cvn = OrderedDict({})\n",
      "\n",
      "for idx,k in enumerate(kcnv[:-1]):\n",
      "    k1 = kcnv[idx+1]\n",
      "    pf_cvn[k] = aff(k, k1, p_cvn[k], p_cvn[k1], k, p_cvn[k])\n",
      "    \n",
      "def score2prob(sc, pf_cvn):\n",
      "    \"\"\"\n",
      "    returns the proba that cnv with score sc is a cnv; \n",
      "    input\n",
      "    -----\n",
      "    sc: float\n",
      "        the score, > 15\n",
      "    pf_cvn: ordered dict\n",
      "        \n",
      "    returns\n",
      "    -------\n",
      "    float\n",
      "    \"\"\"\n",
      "    # \n",
      "    assert sc >= 15.\n",
      "\n",
      "    kcnv = pf_cvn.keys()\n",
      "    if sc >= kcnv[-1]:\n",
      "        return 1.0\n",
      "    \n",
      "    idx = 0\n",
      "    while sc > kcnv[idx+1]: idx += 1\n",
      "    \n",
      "    faff = pf_cvn[kcnv[idx]]\n",
      "    \n",
      "    return faff(sc)\n",
      "    \n",
      "    \n",
      "# f15 = aff(15, 17.5, p_cvn[15], p_cvn[17.5], (15+17.5)/2, p_cvn[15])"
     ],
     "language": "python",
     "metadata": {},
     "outputs": [],
     "prompt_number": 30
    },
    {
     "cell_type": "code",
     "collapsed": false,
     "input": [
      "print(pf_cvn.keys())\n",
      "\n",
      "def test_pf_cvn():\n",
      "    assert pf_cvn[15](15) == .20\n",
      "    assert abs(pf_cvn[15](17.5) - pf_cvn[17.5](17.5)) < np.finfo(float).eps\n",
      "    assert abs(pf_cvn[17.5](20) - pf_cvn[20.](20.)) < np.finfo(float).eps\n",
      "    assert abs(pf_cvn[20.](22.5) - pf_cvn[22.5](22.5)) < np.finfo(float).eps\n",
      "    assert pf_cvn[30](45) == 1.\n",
      "    return True\n",
      "\n",
      "test_pf_cvn()"
     ],
     "language": "python",
     "metadata": {},
     "outputs": [
      {
       "output_type": "stream",
       "stream": "stdout",
       "text": [
        "[15.0, 17.5, 20.0, 22.5, 25.0, 27.5, 30.0]\n"
       ]
      },
      {
       "metadata": {},
       "output_type": "pyout",
       "prompt_number": 31,
       "text": [
        "True"
       ]
      }
     ],
     "prompt_number": 31
    },
    {
     "cell_type": "code",
     "collapsed": false,
     "input": [
      "x_scores = np.arange(15, 35, 1)\n",
      "y = [score2prob(x, pf_cvn) for x in x_scores]"
     ],
     "language": "python",
     "metadata": {},
     "outputs": [],
     "prompt_number": 32
    },
    {
     "cell_type": "code",
     "collapsed": false,
     "input": [
      "plt.plot(x_scores, y)"
     ],
     "language": "python",
     "metadata": {},
     "outputs": [
      {
       "metadata": {},
       "output_type": "pyout",
       "prompt_number": 33,
       "text": [
        "[<matplotlib.lines.Line2D at 0x3e91f90>]"
       ]
      },
      {
       "metadata": {},
       "output_type": "display_data",
       "png": "[encoded data removed]",
       "text": [
        "<matplotlib.figure.Figure at 0x41ad710>"
       ]
      }
     ],
     "prompt_number": 33
    },
    {
     "cell_type": "code",
     "collapsed": false,
     "input": [
      "p_scores = [ score2prob(x, pf_cvn) for x in clean_score] "
     ],
     "language": "python",
     "metadata": {},
     "outputs": [],
     "prompt_number": 34
    },
    {
     "cell_type": "code",
     "collapsed": false,
     "input": [
      "len(p_scores)"
     ],
     "language": "python",
     "metadata": {},
     "outputs": [
      {
       "metadata": {},
       "output_type": "pyout",
       "prompt_number": 35,
       "text": [
        "19541"
       ]
      }
     ],
     "prompt_number": 35
    },
    {
     "cell_type": "code",
     "collapsed": false,
     "input": [],
     "language": "python",
     "metadata": {},
     "outputs": [],
     "prompt_number": 35
    }
   ],
   "metadata": {}
  }
 ]
}