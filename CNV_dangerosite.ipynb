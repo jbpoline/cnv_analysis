{
 "cells": [
  {
   "cell_type": "code",
   "execution_count": 1,
   "metadata": {
    "collapsed": false
   },
   "outputs": [
    {
     "name": "stdout",
     "output_type": "stream",
     "text": [
      "Populating the interactive namespace from numpy and matplotlib\n"
     ]
    }
   ],
   "source": [
    "%pylab inline"
   ]
  },
  {
   "cell_type": "code",
   "execution_count": 2,
   "metadata": {
    "collapsed": false
   },
   "outputs": [
    {
     "data": {
      "text/plain": [
       "<module 'cnv_util' from 'cnv_util.pyc'>"
      ]
     },
     "execution_count": 2,
     "metadata": {},
     "output_type": "execute_result"
    }
   ],
   "source": [
    "import numpy as np\n",
    "import scipy.stats as sst\n",
    "import matplotlib.pyplot as plt\n",
    "import os\n",
    "import os.path as osp\n",
    "from __future__ import print_function\n",
    "from __future__ import division\n",
    "import six\n",
    "import cnv_util as util\n",
    "reload(util)"
   ]
  },
  {
   "cell_type": "markdown",
   "metadata": {},
   "source": [
    "## Reading TSV files "
   ]
  },
  {
   "cell_type": "code",
   "execution_count": 3,
   "metadata": {
    "collapsed": false
   },
   "outputs": [],
   "source": [
    "CWD = osp.join(osp.expanduser('~'), 'documents','grants_projects','roberto_projects', \\\n",
    "               'guillaume_huguet_CNV','File_OK')\n",
    "filename = 'Imagen_QC_CIA_MMAP_V2_Annotation.tsv'\n",
    "fullfname = osp.join(CWD, filename)"
   ]
  },
  {
   "cell_type": "code",
   "execution_count": 4,
   "metadata": {
    "collapsed": false
   },
   "outputs": [],
   "source": [
    "arr = np.loadtxt(fullfname, dtype='str', comments=None, delimiter='\\Tab', \n",
    "                 converters=None, skiprows=0, usecols=None, unpack=False, ndmin=0)"
   ]
  },
  {
   "cell_type": "code",
   "execution_count": 5,
   "metadata": {
    "collapsed": false
   },
   "outputs": [
    {
     "name": "stdout",
     "output_type": "stream",
     "text": [
      "['IID_projet', 'IID_genotype', 'SampleID', 'CHR de Merge_CIA_610_660_QC', 'START', 'STOP', 'TYPE de Merge_CIA_610_660_QC', 'SCORE', 'ConcatSNP', 'Gene', 'Location', '#Genes', '#Exons', \"5'gene\", \"5'dist(kb)\", \"3'gene\", \"3'dist(kb)\", 'dups(DGV)', 'dels(DGV)', 'total_known_CNVs(DGV)', 'num_papers(DGV)', 'papers', 'hg18_DGV_1%_Mar2010.txt %overlap', 'hg18_Chromosome_band.txt', 'hg18_segdups.txt %overlap', 'hg18_genome_features.txt', 'hg18_genome_features.txt %overlap', 'Pvalue_MMAP_V2_sans_intron_and_Intergenic']\n",
      "27 7\n"
     ]
    }
   ],
   "source": [
    "EXPECTED_LINES = 19542\n",
    "expected_nb_values = EXPECTED_LINES - 1 \n",
    "assert arr.shape[0] == EXPECTED_LINES\n",
    "line0 = arr[0].split('\\t')\n",
    "print(line0)\n",
    "\n",
    "danger = 'Pvalue_MMAP_V2_sans_intron_and_Intergenic'\n",
    "score = 'SCORE'\n",
    "i_danger = line0.index(danger)\n",
    "i_score = line0.index(score)\n",
    "print(i_danger, i_score)"
   ]
  },
  {
   "cell_type": "code",
   "execution_count": 6,
   "metadata": {
    "collapsed": false
   },
   "outputs": [],
   "source": [
    "# check that all lines have the same number of tab separated elements \n",
    "larr =  np.asarray([len(arr[i].split('\\t')) for i in range(arr.shape[0])])\n",
    "assert not (larr - larr[0]).any() # all element have the same value "
   ]
  },
  {
   "cell_type": "code",
   "execution_count": 7,
   "metadata": {
    "collapsed": false
   },
   "outputs": [],
   "source": [
    "dangers = np.asarray([line.split('\\t')[i_danger] for line in arr[1:]])\n",
    "scores = np.asarray([line.split('\\t')[i_score] for line in arr[1:]])\n",
    "# print(np.unique(scores))\n",
    "\n",
    "assert len(dangers) == expected_nb_values\n",
    "assert len(scores) == expected_nb_values"
   ]
  },
  {
   "cell_type": "markdown",
   "metadata": {},
   "source": [
    "## transforming the \"Pvalue_MMAP_V2_...\" into danger score"
   ]
  },
  {
   "cell_type": "markdown",
   "metadata": {},
   "source": [
    "### Testing the function danger_score"
   ]
  },
  {
   "cell_type": "code",
   "execution_count": 8,
   "metadata": {
    "collapsed": false
   },
   "outputs": [],
   "source": [
    "assert  util._test_danger_score_1()\n",
    "assert  util._test_danger_score()"
   ]
  },
  {
   "cell_type": "markdown",
   "metadata": {},
   "source": [
    "__ QUESTION pour Guillaume: __\n",
    "a quoi correspondent les '' dans la colonne \"Pvalue_MMAP_V2_sans_intron_and_Intergenic\" (danger)?\n",
    "\n",
    "Ansewer: cnv for which we have no dangerosity information"
   ]
  },
  {
   "cell_type": "code",
   "execution_count": 9,
   "metadata": {
    "collapsed": false
   },
   "outputs": [],
   "source": [
    "\"\"\"\n",
    "danger_not_empty = dangers != ''\n",
    "danger_scores = dangers[danger_not_empty]\n",
    "danger_scores = np.asarray([util.danger_score(pstr, util.pH1_with_apriori) \n",
    "                                                    for pstr in danger_scores])\n",
    "\"\"\";"
   ]
  },
  {
   "cell_type": "markdown",
   "metadata": {},
   "source": [
    "## To be or not to be a CNV: p value from the 'SCORE' column "
   ]
  },
  {
   "cell_type": "code",
   "execution_count": 10,
   "metadata": {
    "collapsed": false
   },
   "outputs": [
    {
     "name": "stdout",
     "output_type": "stream",
     "text": [
      "14903\n"
     ]
    }
   ],
   "source": [
    "#get the scores\n",
    "scores = np.asarray([line.split('\\t')[i_score] for line in arr[1:]])\n",
    "assert len(scores) == expected_nb_values\n",
    "print(len(np.unique(scores)))\n",
    "tmp = np.asarray([util.str2floats(s, comma2point=True, sep=' ')[0] for s in scores])\n",
    "assert tmp.shape[0] == EXPECTED_LINES - 1 \n"
   ]
  },
  {
   "cell_type": "code",
   "execution_count": 11,
   "metadata": {
    "collapsed": true
   },
   "outputs": [],
   "source": [
    "# h = plt.hist(tmp[tmp > sst.scoreatpercentile(tmp, 99)], bins=100)\n",
    "# h = plt.hist(tmp[tmp < 50], bins=100)\n",
    "\n",
    "\"\"\"\n",
    "print(\"# CNV with score == 0.: \", (tmp==0.).sum())\n",
    "print(\"# CNV with score >=15 < 17.5 : \", np.logical_and(tmp >= 15., tmp < 17.5).sum())\n",
    "tmp.max()\n",
    "\"\"\";"
   ]
  },
  {
   "cell_type": "markdown",
   "metadata": {},
   "source": [
    "## Replace the zero score by the maximum score: cf Guillaume's procedure"
   ]
  },
  {
   "cell_type": "code",
   "execution_count": 12,
   "metadata": {
    "collapsed": false
   },
   "outputs": [],
   "source": [
    "# if the score is zero, put it to maximum value : it means the CNV has a maximum score\n",
    "clean_score = tmp\n",
    "clean_score[tmp==0.] = tmp.max()\n",
    "# h = plt.hist(tmp[tmp < 60], bins=100)"
   ]
  },
  {
   "cell_type": "markdown",
   "metadata": {},
   "source": [
    "## Transforms the scores into P(cnv is real)"
   ]
  },
  {
   "cell_type": "code",
   "execution_count": 23,
   "metadata": {
    "collapsed": false
   },
   "outputs": [],
   "source": [
    "reload(util)\n",
    "# Creating a function from score to proba from Guillaume's values\n",
    "p_cnv = util._build_dict_prob_cnv()\n",
    "#print(p_cnv.keys())\n",
    "#print(p_cnv.values())\n",
    "\n",
    "#### Definition with a piecewise linear function\n",
    "score2prob = util.create_score2prob_lin_piecewise(p_cnv)\n",
    "#scores = np.arange(15,50,1)\n",
    "#probs = [score2prob(sc) for sc in scores]\n",
    "#plt.plot(scores, probs)\n",
    "\n",
    "#### Definition with a corrected regression line\n",
    "score2prob = util.create_score2prob_lin(p_cnv)\n",
    "#x = np.arange(0,50,1)\n",
    "#plt.plot(x, [score2prob(_) for _ in x], '-', p_cnv.keys(), p_cnv.values(), '+')"
   ]
  },
  {
   "cell_type": "code",
   "execution_count": 24,
   "metadata": {
    "collapsed": false
   },
   "outputs": [],
   "source": [
    "p_scores = [score2prob(sc) for sc in clean_score]\n",
    "assert len(p_scores) == EXPECTED_LINES -1 "
   ]
  },
  {
   "cell_type": "markdown",
   "metadata": {},
   "source": [
    "## Finally, putting things together "
   ]
  },
  {
   "cell_type": "code",
   "execution_count": 32,
   "metadata": {
    "collapsed": false
   },
   "outputs": [
    {
     "name": "stdout",
     "output_type": "stream",
     "text": [
      "IID_projet :  000067227272\n",
      "IID_genotype :  67227272\n",
      "SampleID :  67227272-660Wq\n",
      "CHR de Merge_CIA_610_660_QC :  2\n",
      "START :  41092148\n",
      "STOP :  41109046\n",
      "TYPE de Merge_CIA_610_660_QC :  1\n",
      "SCORE :  22,895\n",
      "ConcatSNP :  10\n",
      "Gene :  0\n",
      "Location :  Intergenic\n",
      "#Genes :  0\n",
      "#Exons :  0\n",
      "5'gene :  SLC8A1\n",
      "5'dist(kb) :  499,069\n",
      "3'gene :  SGK493\n",
      "3'dist(kb) :  1019.618\n",
      "dups(DGV) :  13\n",
      "dels(DGV) :  832\n",
      "total_known_CNVs(DGV) :  845\n",
      "num_papers(DGV) :  13\n",
      "papers :  Altshuler et al. (2010), Conrad et al. (2005), Conrad et al. (2009), Itsara et al. (2009), Jakobsson et al. (2008), Matsuzaki et al. (2009), McCarroll et al. (2005), McCarroll et al. (2008), Park et al. (2010), Perry et al. (2008), Shaikh et al. (2009), Wang et al. (2007), de Smith et al. (2007)\n",
      "hg18_DGV_1%_Mar2010.txt %overlap :  73%\n",
      "hg18_Chromosome_band.txt :  2p22.1\n",
      "hg18_segdups.txt %overlap :  0%\n",
      "hg18_genome_features.txt :  0\n",
      "hg18_genome_features.txt %overlap :  0%\n",
      "Pvalue_MMAP_V2_sans_intron_and_Intergenic :  \n"
     ]
    }
   ],
   "source": [
    "# re-loading \n",
    "CWD = osp.join(osp.expanduser('~'), 'documents','grants_projects','roberto_projects', \\\n",
    "               'guillaume_huguet_CNV','File_OK')\n",
    "filename = 'Imagen_QC_CIA_MMAP_V2_Annotation.tsv'\n",
    "fullfname = osp.join(CWD, filename)\n",
    "\n",
    "# in numpy array\n",
    "arr = np.loadtxt(fullfname, dtype='str', comments=None, delimiter='\\Tab', \n",
    "                 converters=None, skiprows=0, usecols=None, unpack=False, ndmin=0)\n",
    "\n",
    "line0 = arr[0].split('\\t')\n",
    "DANGER = 'Pvalue_MMAP_V2_sans_intron_and_Intergenic'\n",
    "SCORE = 'SCORE'\n",
    "\n",
    "i_DANGER = line0.index(DANGER)\n",
    "i_SCORE = line0.index(SCORE)\n",
    "i_START = line0.index('START')\n",
    "i_STOP = line0.index('STOP')\n",
    "i_5pGENE = line0.index(\"5'gene\")\n",
    "i_3pGENE = line0.index(\"3'gene\")\n",
    "i_5pDIST = line0.index(\"5'dist(kb)\")\n",
    "i_3pDIST = line0.index(\"3'dist(kb)\")\n",
    "#i_LOC = line0.index('Location')\n",
    "\n",
    "for idx in range(len(line0)):\n",
    "    print(line0[idx],': ', arr[1].split('\\t')[idx])"
   ]
  },
  {
   "cell_type": "code",
   "execution_count": 33,
   "metadata": {
    "collapsed": false
   },
   "outputs": [],
   "source": [
    "# A function to create unique identifiers of subj, CNV, etc\n",
    "\n",
    "def cnv_uiid(tsv_arr, columns_names, first_line=None):\n",
    "    \"\"\"\n",
    "    columns_names: list of column names with which the uiid are constructed\n",
    "    returns a list if given the full array, \n",
    "    returns a string if given only one line (and the first line)\n",
    "    \"\"\"\n",
    "    \n",
    "    chr2rm = ''.join([',', '.', ' ']) # others: ['!', '?', ...] ?\n",
    "    \n",
    "    if isinstance(tsv_arr, six.string_types) and (first_line != None):\n",
    "        # assume we are given one line of the tsv array\n",
    "        indexes = [first_line.split('\\t').index(colname) for colname in columns_names]\n",
    "        uiid = '_'.join([(tsv_arr.split('\\t')[ind]).translate(None,chr2rm) for ind in indexes])\n",
    "        \n",
    "    else: \n",
    "        uiid = []\n",
    "        indexes = [tsv_arr[0].split('\\t').index(colname) for colname in columns_names]\n",
    "        for line in tsv_arr[1:]:\n",
    "            ll = line.split('\\t')\n",
    "            uiid.append('_'.join([ll[ind] for ind in indexes]))\n",
    "\n",
    "    return uiid"
   ]
  },
  {
   "cell_type": "code",
   "execution_count": 35,
   "metadata": {
    "collapsed": false
   },
   "outputs": [
    {
     "name": "stdout",
     "output_type": "stream",
     "text": [
      "['IID_projet', 'IID_genotype', 'SampleID', 'CHR de Merge_CIA_610_660_QC', 'START', 'STOP', 'TYPE de Merge_CIA_610_660_QC', 'SCORE', 'ConcatSNP', 'Gene', 'Location', '#Genes', '#Exons', \"5'gene\", \"5'dist(kb)\", \"3'gene\", \"3'dist(kb)\", 'dups(DGV)', 'dels(DGV)', 'total_known_CNVs(DGV)', 'num_papers(DGV)', 'papers', 'hg18_DGV_1%_Mar2010.txt %overlap', 'hg18_Chromosome_band.txt', 'hg18_segdups.txt %overlap', 'hg18_genome_features.txt', 'hg18_genome_features.txt %overlap', 'Pvalue_MMAP_V2_sans_intron_and_Intergenic']\n"
     ]
    }
   ],
   "source": [
    "print(line0)"
   ]
  },
  {
   "cell_type": "code",
   "execution_count": 38,
   "metadata": {
    "collapsed": false
   },
   "outputs": [
    {
     "name": "stdout",
     "output_type": "stream",
     "text": [
      "with names from:  ['IID_projet', 'IID_genotype', 'CHR de Merge_CIA_610_660_QC', 'START', 'STOP']\n",
      "we have 19541 unique elements out of 19541 rows in the tsv\n",
      "with names from:  ['CHR de Merge_CIA_610_660_QC', 'START', 'STOP']\n",
      "we have 7337 unique elements out of 19541 rows in the tsv\n",
      "with names from:  ['IID_projet']\n",
      "we have 1712 unique elements out of 19541 rows in the tsv\n"
     ]
    }
   ],
   "source": [
    "#names_from = ['START', 'STOP', \"5'gene\", \"3'gene\", \"5'dist(kb)\", \"3'dist(kb)\"]\n",
    "\n",
    "#---------- ligne uniques:\n",
    "names_from = ['IID_projet', 'IID_genotype', \"CHR de Merge_CIA_610_660_QC\", 'START', 'STOP'] \n",
    "cnv_names = cnv_uiid(arr, names_from)\n",
    "print(\"with names from: \", names_from)\n",
    "print(\"we have {} unique elements out of {} rows in the tsv\".format(\n",
    "                                len(np.unique(cnv_names)), len(cnv_names)))\n",
    "\n",
    "#---------- CNV uniques ? \n",
    "names_from = [\"CHR de Merge_CIA_610_660_QC\", 'START', 'STOP'] \n",
    "cnv_names = cnv_uiid(arr, names_from)\n",
    "print(\"with names from: \", names_from)\n",
    "print(\"we have {} unique elements out of {} rows in the tsv\".format(\n",
    "                                len(np.unique(cnv_names)), len(cnv_names)))\n",
    "\n",
    "#---------- CNV uniques ? \n",
    "\"\"\"\n",
    "names_from = ['START', 'STOP', \"5'gene\", \"3'gene\", \"5'dist(kb)\", \"3'dist(kb)\"]\n",
    "cnv_names = cnv_uiid(arr, names_from)\n",
    "print(\"with names from: \", names_from)\n",
    "print(\"we have {} unique elements out of {} rows in the tsv\".format(\n",
    "                                len(np.unique(cnv_names)), len(cnv_names)))\n",
    "\"\"\"\n",
    "\n",
    "#---------- sujets uniques ? \n",
    "names_from = ['IID_projet'] # , 'IID_genotype'] \n",
    "cnv_names = cnv_uiid(arr, names_from)\n",
    "print(\"with names from: \", names_from)\n",
    "print(\"we have {} unique elements out of {} rows in the tsv\".format(\n",
    "                                len(np.unique(cnv_names)), len(cnv_names)))\n",
    "\n",
    "dangers = np.asarray([line.split('\\t')[i_DANGER] for line in arr[1:]])\n",
    "scores = np.asarray([line.split('\\t')[i_SCORE] for line in arr[1:]])\n",
    "\n",
    "#danger_not_empty = dangers != ''\n",
    "#print(danger_not_empty.sum())\n",
    "#print(len(np.unique(cnv_name)))\n",
    "#print(cnv_name[:10])"
   ]
  },
  {
   "cell_type": "markdown",
   "metadata": {},
   "source": [
    "### Create a dict of the cnv"
   ]
  },
  {
   "cell_type": "code",
   "execution_count": 39,
   "metadata": {
    "collapsed": false
   },
   "outputs": [],
   "source": [
    "#gene_name_set = set([line.split('\\t')[i_3pGENE] for line in arr[1:]]) | \\\n",
    "#           set([line.split('\\t')[i_5pGENE] for line in arr[1:]])\n",
    "#print('len(gene_name_set): ', len(gene_name_set))\n",
    "\n",
    "# this creates an dict where the keys are unique indentifiers of cnv, values \n",
    "# are (dangerosity, probability_cnv)\n",
    "\n",
    "cnv = OrderedDict({})\n",
    "names_from = [\"CHR de Merge_CIA_610_660_QC\", 'START', 'STOP']  #, \"5'gene\", \"3'gene\", \"5'dist(kb)\", \"3'dist(kb)\"]\n",
    "blank_dgr = 0\n",
    "\n",
    "for line in arr[1:]:\n",
    "    lline = line.split('\\t')\n",
    "    dgr = lline[i_DANGER]\n",
    "    scr  = lline[i_SCORE]\n",
    "    cnv_iid = cnv_uiid(line, names_from, arr[0])\n",
    "    \n",
    "    if dgr != '':\n",
    "        add_cnv = (danger_score(lline[i_DANGER], pH1_with_apriori),\n",
    "                   score2prob(lline[i_SCORE]))\n",
    "        if cnv_iid in cnv.keys():\n",
    "            cnv[cnv_iid].append(add_cnv)\n",
    "        else:\n",
    "            cnv[cnv_iid] = [add_cnv]\n",
    "    else:\n",
    "        blank_dgr += 1\n"
   ]
  },
  {
   "cell_type": "code",
   "execution_count": 40,
   "metadata": {
    "collapsed": false
   },
   "outputs": [
    {
     "name": "stdout",
     "output_type": "stream",
     "text": [
      "3374 12294\n",
      "['10_134903403_134996704', '18_2578360_2611407', '17_17683629_17693534', '18_2576907_2611407', '17_17651995_17693534']\n"
     ]
    }
   ],
   "source": [
    "print(len(cnv), (blank_dgr))\n",
    "print([k for k in cnv.keys()[:5]])"
   ]
  },
  {
   "cell_type": "code",
   "execution_count": 41,
   "metadata": {
    "collapsed": false
   },
   "outputs": [
    {
     "name": "stdout",
     "output_type": "stream",
     "text": [
      "with names from:  ['CHR de Merge_CIA_610_660_QC', 'START', 'STOP']\n",
      "we have 7337 unique elements out of 19541 rows in the tsv\n"
     ]
    }
   ],
   "source": [
    "names_from = [\"CHR de Merge_CIA_610_660_QC\", 'START', 'STOP'] \n",
    "cnv_names = cnv_uiid(arr, names_from)\n",
    "print(\"with names from: \", names_from)\n",
    "print(\"we have {} unique elements out of {} rows in the tsv\".format(\n",
    "                                len(np.unique(cnv_names)), len(cnv_names)))\n",
    "#print(cnv_names[:5])\n",
    "\n",
    "# To be check : the 7337 unique cnv should reduce to 3374 when we remove those for which dgr == ''\n"
   ]
  },
  {
   "cell_type": "code",
   "execution_count": 42,
   "metadata": {
    "collapsed": false
   },
   "outputs": [
    {
     "name": "stdout",
     "output_type": "stream",
     "text": [
      "3374\n",
      "1_995669_1011521 :  [(0.99999999999999312, 1.0)]\n",
      "22_19339596_19429297 :  [(3.0, 1.0), (3.0, 1.0), (3.0, 1.0)]\n",
      "22_19339596_19424781 :  [(3.0, 1.0), (3.0, 1.0), (3.0, 1.0), (3.0, 1.0), (3.0, 1.0), (3.0, 1.0), (3.0, 1.0), (3.0, 1.0), (3.0, 1.0), (3.0, 1.0), (3.0, 1.0), (3.0, 1.0)]\n",
      "22_19343347_19429297 :  [(3.0, 1.0)]\n",
      "22_19345218_19424781 :  [(3.0, 1.0)]\n",
      "22_18328337_18337023 :  [(1.0, 1.0), (1.0, 1.0), (1.0, 1.0)]\n",
      "22_18330428_18337023 :  [(1.0, 1.0)]\n",
      "22_18328337_18358558 :  [(2.0, 1.0)]\n",
      "22_18336781_18400229 :  [(3.0, 1.0)]\n",
      "2_110243431_110339819 :  [(1.9999998829812593, 1.0), (1.9999998829812593, 1.0), (1.9999998829812593, 1.0)]\n",
      "21_14830513_14852044 :  [(0.99999999999989209, 1.0), (0.99999999999989209, 1.0), (0.99999999999989209, 1.0)]\n",
      "11_127888014_127946707 :  [(0.99999999999999989, 1.0)]\n",
      "7_73481452_73512817 :  [(0.99999999999998568, 1.0)]\n",
      "22_48960865_49003996 :  [(2.9999999979009999, 1.0)]\n",
      "22_48951780_48979320 :  [(1.9999999996940001, 1.0)]\n",
      "22_48951780_49000551 :  [(3.9999999977480001, 1.0), (3.9999999977480001, 1.0)]\n",
      "22_48943190_49003996 :  [(3.9999999977480001, 1.0)]\n",
      "22_48943190_49000551 :  [(3.9999999977480001, 1.0)]\n",
      "16_29554843_30085308 :  [(26.0, 1.0)]\n",
      "15_29143717_29172089 :  [(1.9999999998241, 1.0)]\n"
     ]
    }
   ],
   "source": [
    "__kcnv = cnv.keys()\n",
    "print(len(__kcnv))\n",
    "for _ in __kcnv[3330:3350]:\n",
    "    print(_,': ',cnv[_])"
   ]
  },
  {
   "cell_type": "code",
   "execution_count": 43,
   "metadata": {
    "collapsed": false
   },
   "outputs": [],
   "source": [
    "#for k in cnv.keys():\n",
    "#    if len(cnv[k]) > 1:\n",
    "#        if len(set([cnv[k][i][0] for i in range(len(cnv[k]))])) > 1:\n",
    "#            pass\n",
    "#            # print(cnv[k])\n",
    "#        #print([t[0] for t in cnv[k]])"
   ]
  },
  {
   "cell_type": "markdown",
   "metadata": {},
   "source": [
    "### Create a dictionary of the subjects - "
   ]
  },
  {
   "cell_type": "code",
   "execution_count": 44,
   "metadata": {
    "collapsed": false
   },
   "outputs": [],
   "source": [
    "#print(len(arr), line0)"
   ]
  },
  {
   "cell_type": "code",
   "execution_count": 45,
   "metadata": {
    "collapsed": false
   },
   "outputs": [],
   "source": [
    "cnv = OrderedDict({})\n",
    "#names_from = ['START', 'STOP', \"5'gene\", \"3'gene\", \"5'dist(kb)\", \"3'dist(kb)\"]\n",
    "names_from = ['IID_projet']\n",
    "\n",
    "for line in arr[1:]:\n",
    "    lline = line.split('\\t')\n",
    "    dgr = lline[i_DANGER]\n",
    "    scr  = lline[i_SCORE]\n",
    "    sub_iid = cnv_uiid(line, names_from, arr[0])\n",
    "    \n",
    "    if dgr != '':\n",
    "        add_cnv = (danger_score(lline[i_DANGER], pH1_with_apriori),\n",
    "                   score2prob(lline[i_SCORE]))\n",
    "        if sub_iid in cnv.keys():\n",
    "            cnv[sub_iid].append(add_cnv)\n",
    "        else:\n",
    "            cnv[sub_iid] = [add_cnv]"
   ]
  },
  {
   "cell_type": "markdown",
   "metadata": {},
   "source": [
    "#### Histogram of the number of cnv used to compute dangerosity"
   ]
  },
  {
   "cell_type": "code",
   "execution_count": 46,
   "metadata": {
    "collapsed": false
   },
   "outputs": [
    {
     "name": "stdout",
     "output_type": "stream",
     "text": [
      "1656\n",
      "59\n"
     ]
    },
    {
     "data": {
      "image/png": "[encoded data removed]",
      "text/plain": [
       "<matplotlib.figure.Figure at 0x7ff50d81a490>"
      ]
     },
     "metadata": {},
     "output_type": "display_data"
    }
   ],
   "source": [
    "print(len(cnv))\n",
    "nbcnv = [len(cnv[sb]) for sb in cnv]\n",
    "hist = plt.hist(nbcnv, bins=50)\n",
    "print(np.max(np.asarray(nbcnv)))"
   ]
  },
  {
   "cell_type": "code",
   "execution_count": 47,
   "metadata": {
    "collapsed": false
   },
   "outputs": [],
   "source": [
    "# definition of dangerosity from a list of cnv\n",
    "def dangerosity(listofcnvs):\n",
    "    \"\"\"\n",
    "    inputs: list tuples (danger_score, proba_cnv)\n",
    "    returns: a dangerosity score \n",
    "    \"\"\"\n",
    "    last = -1 #slicing the last\n",
    "    tmp = [np.asarray(t) for t in zip(*listofcnvs)]\n",
    "    return tmp[0].dot(tmp[1])\n",
    "\n",
    "# or: return np.asarray([dgr*prob for (dgr,prob) in listofcnvs]).cumsum()[last]\n"
   ]
  },
  {
   "cell_type": "markdown",
   "metadata": {},
   "source": [
    "### Testing dangerosity"
   ]
  },
  {
   "cell_type": "code",
   "execution_count": 48,
   "metadata": {
    "collapsed": false
   },
   "outputs": [
    {
     "name": "stdout",
     "output_type": "stream",
     "text": [
      "[(0.99999942000033648, 1.0), (0.48377137638161954, 1.0), (0.49999999999999989, 1.0), (1.1666666666666665, 1.0)]  yields  3.15043746305\n"
     ]
    }
   ],
   "source": [
    "for k in range(1,30, 30):\n",
    "    print(cnv[cnv.keys()[k]], ' yields ', dangerosity(cnv[cnv.keys()[k]]))\n",
    "    \n",
    "test_dangerosity_input = [[(1., .5), (1., .5), (1., .5), (1., .5)],\n",
    "                          [(2., 1.)],\n",
    "                          [(10000., 0.)]]\n",
    "test_dangerosity_output = [2., 2., 0]\n",
    "\n",
    "#print( [dangerosity(icnv) for icnv in test_dangerosity_input]) # == test_dangerosity_output\n",
    "assert( [dangerosity(icnv) for icnv in test_dangerosity_input] == test_dangerosity_output)"
   ]
  },
  {
   "cell_type": "markdown",
   "metadata": {},
   "source": [
    "### Printing out results"
   ]
  },
  {
   "cell_type": "code",
   "execution_count": 49,
   "metadata": {
    "collapsed": false
   },
   "outputs": [],
   "source": [
    "outfile = 'dangerosity_cnv.txt'\n",
    "fulloutfile = osp.join(CWD, outfile)\n",
    "\n",
    "with open(fulloutfile, 'w') as outf:\n",
    "    for sub in cnv:\n",
    "        outf.write(\"\\t\".join([sub, str(dangerosity(cnv[sub]))]) + \"\\n\")"
   ]
  },
  {
   "cell_type": "code",
   "execution_count": null,
   "metadata": {
    "collapsed": false
   },
   "outputs": [],
   "source": []
  },
  {
   "cell_type": "code",
   "execution_count": null,
   "metadata": {
    "collapsed": true
   },
   "outputs": [],
   "source": []
  }
 ],
 "metadata": {
  "kernelspec": {
   "display_name": "Python 2",
   "language": "python",
   "name": "python2"
  },
  "language_info": {
   "codemirror_mode": {
    "name": "ipython",
    "version": 2
   },
   "file_extension": ".py",
   "mimetype": "text/x-python",
   "name": "python",
   "nbconvert_exporter": "python",
   "pygments_lexer": "ipython2",
   "version": "2.7.6"
  }
 },
 "nbformat": 4,
 "nbformat_minor": 0
}
