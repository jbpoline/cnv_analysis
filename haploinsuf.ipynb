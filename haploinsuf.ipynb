{
 "cells": [
  {
   "cell_type": "code",
   "execution_count": 1,
   "metadata": {
    "collapsed": false
   },
   "outputs": [
    {
     "name": "stdout",
     "output_type": "stream",
     "text": [
      "Populating the interactive namespace from numpy and matplotlib\n"
     ]
    }
   ],
   "source": [
    "%pylab inline"
   ]
  },
  {
   "cell_type": "code",
   "execution_count": 18,
   "metadata": {
    "collapsed": false
   },
   "outputs": [
    {
     "data": {
      "text/plain": [
       "<module 'cnv_util' from 'cnv_util.pyc'>"
      ]
     },
     "execution_count": 18,
     "metadata": {},
     "output_type": "execute_result"
    }
   ],
   "source": [
    "import numpy as np\n",
    "import scipy.stats as sst\n",
    "import matplotlib.pyplot as plt\n",
    "import os\n",
    "import os.path as osp\n",
    "from __future__ import print_function\n",
    "from __future__ import division\n",
    "import six\n",
    "import cnv_util as util\n",
    "reload(util)"
   ]
  },
  {
   "cell_type": "markdown",
   "metadata": {},
   "source": [
    "## Reading TSV files "
   ]
  },
  {
   "cell_type": "code",
   "execution_count": 9,
   "metadata": {
    "collapsed": false
   },
   "outputs": [],
   "source": [
    "CWD = osp.join(osp.expanduser('~'), 'documents','grants_projects','roberto_projects', \\\n",
    "               'guillaume_huguet_CNV','27Oct2015')\n",
    "filename = '20151027_Imagen_Annot_per_genes_MMAP_HI_TADA.txt'\n",
    "fullfname = osp.join(CWD, filename)"
   ]
  },
  {
   "cell_type": "code",
   "execution_count": 10,
   "metadata": {
    "collapsed": false
   },
   "outputs": [],
   "source": [
    "arr_haplo = np.loadtxt(fullfname, dtype='str', comments=None, delimiter='\\Tab', \n",
    "                 converters=None, skiprows=0, usecols=None, unpack=False, ndmin=0)"
   ]
  },
  {
   "cell_type": "markdown",
   "metadata": {},
   "source": [
    "### some basic check for the columns of interest "
   ]
  },
  {
   "cell_type": "code",
   "execution_count": 11,
   "metadata": {
    "collapsed": false,
    "scrolled": true
   },
   "outputs": [
    {
     "name": "stdout",
     "output_type": "stream",
     "text": [
      "['IID_Projet', 'IID_Imagen_Merged_Pe_Qu', 'Chromosome', 'Loci_Start', 'Loci_Stop', 'Concat_CN=Type', 'Concat#SNP', 'Max_Score', 'All_Gene', 'Per_Genes', 'MMAP_signature', 'Haplosuff_V3', 'tadaFdrAscSscExomeSscAgpSmallDel']\n",
      "11 10 9\n"
     ]
    }
   ],
   "source": [
    "EXPECTED_LINES = 30752\n",
    "expected_nb_values = EXPECTED_LINES - 1 \n",
    "assert arr_haplo.shape[0] == EXPECTED_LINES\n",
    "line0 = arr_haplo[0].split('\\t')\n",
    "print(line0)\n",
    "\n",
    "haplo = 'Haplosuff_V3'\n",
    "mmap = 'MMAP_signature'\n",
    "per_gene = 'Per_Genes'\n",
    "i_haplo = line0.index('Haplosuff_V3')\n",
    "i_mmap = line0.index('MMAP_signature')\n",
    "i_per_gene = line0.index('Per_Genes')\n",
    "print(i_haplo, i_mmap, i_per_gene)"
   ]
  },
  {
   "cell_type": "code",
   "execution_count": 12,
   "metadata": {
    "collapsed": false
   },
   "outputs": [],
   "source": [
    "# check that all lines have the same number of tab separated elements \n",
    "larr =  np.asarray([len(arr_haplo[i].split('\\t')) for i in range(arr_haplo.shape[0])])\n",
    "assert not (larr - larr[0]).any() # all element have the same value "
   ]
  },
  {
   "cell_type": "code",
   "execution_count": 13,
   "metadata": {
    "collapsed": false
   },
   "outputs": [],
   "source": [
    "haplo = np.asarray([line.split('\\t')[i_haplo] for line in arr_haplo[1:]])\n",
    "mmap = np.asarray([line.split('\\t')[i_mmap] for line in arr_haplo[1:]])\n",
    "# print(np.unique(scores))\n",
    "\n",
    "assert len(haplo) == expected_nb_values\n",
    "assert len(mmap) == expected_nb_values"
   ]
  },
  {
   "cell_type": "code",
   "execution_count": null,
   "metadata": {
    "collapsed": true
   },
   "outputs": [],
   "source": []
  },
  {
   "cell_type": "code",
   "execution_count": 14,
   "metadata": {
    "collapsed": false
   },
   "outputs": [
    {
     "name": "stdout",
     "output_type": "stream",
     "text": [
      "(30751,)\n"
     ]
    },
    {
     "data": {
      "text/plain": [
       "(30751,)"
      ]
     },
     "execution_count": 14,
     "metadata": {},
     "output_type": "execute_result"
    }
   ],
   "source": [
    "i_ND = np.where(haplo == 'ND')\n",
    "a_ND = (haplo == 'ND')\n",
    "print(a_ND.shape)\n",
    "i_ND[0].shape\n",
    "haplo.shape"
   ]
  },
  {
   "cell_type": "code",
   "execution_count": 19,
   "metadata": {
    "collapsed": false
   },
   "outputs": [
    {
     "data": {
      "image/png": "[encoded data removed]",
      "text/plain": [
       "<matplotlib.figure.Figure at 0x7f11cd409ed0>"
      ]
     },
     "metadata": {},
     "output_type": "display_data"
    }
   ],
   "source": [
    "\n",
    "haplo_flt = [util.str2floats(h, comma2point=True)[0] for h in haplo[np.logical_not(a_ND)]]\n",
    "\n",
    "_ = plt.hist(haplo_flt)"
   ]
  },
  {
   "cell_type": "code",
   "execution_count": null,
   "metadata": {
    "collapsed": true
   },
   "outputs": [],
   "source": []
  },
  {
   "cell_type": "markdown",
   "metadata": {},
   "source": []
  },
  {
   "cell_type": "markdown",
   "metadata": {},
   "source": [
    "## From here : should be the same as CNV_Guillaume nb"
   ]
  },
  {
   "cell_type": "code",
   "execution_count": 20,
   "metadata": {
    "collapsed": false
   },
   "outputs": [
    {
     "name": "stdout",
     "output_type": "stream",
     "text": [
      "15,534 15.534\n",
      "18,383 18.383\n",
      "15,186 15.186\n",
      "15,857 15.857\n",
      "27,779 27.779\n",
      "26,9692 26.9692\n",
      "154,984 154.984\n",
      "15,245 15.245\n",
      "34,422 34.422\n",
      "18,911 18.911\n"
     ]
    }
   ],
   "source": [
    "a = [print(scores[i], tmp[i]) for i in range(1400,1410)]"
   ]
  },
  {
   "cell_type": "code",
   "execution_count": 21,
   "metadata": {
    "collapsed": false
   },
   "outputs": [
    {
     "name": "stdout",
     "output_type": "stream",
     "text": [
      "(19541,)\n"
     ]
    }
   ],
   "source": [
    "#h = plt.hist(tmp, bins=100)\n",
    "tmp = np.asarray(tmp)\n",
    "print(tmp.shape)\n",
    "assert tmp.shape[0] == EXPECTED_LINES - 1 \n",
    "# h = plt.hist(tmp[tmp < sst.scoreatpercentile(tmp, 95)], bins=100)"
   ]
  },
  {
   "cell_type": "code",
   "execution_count": 22,
   "metadata": {
    "collapsed": false
   },
   "outputs": [
    {
     "data": {
      "image/png": "[encoded data removed]",
      "text/plain": [
       "<matplotlib.figure.Figure at 0x7ff50dd471d0>"
      ]
     },
     "metadata": {},
     "output_type": "display_data"
    }
   ],
   "source": [
    "h = plt.hist(tmp[tmp > sst.scoreatpercentile(tmp, 99)], bins=100)"
   ]
  },
  {
   "cell_type": "code",
   "execution_count": 23,
   "metadata": {
    "collapsed": false
   },
   "outputs": [
    {
     "data": {
      "image/png": "[encoded data removed]",
      "text/plain": [
       "<matplotlib.figure.Figure at 0x7ff50aa09790>"
      ]
     },
     "metadata": {},
     "output_type": "display_data"
    }
   ],
   "source": [
    "h = plt.hist(tmp[tmp < 50], bins=100)"
   ]
  },
  {
   "cell_type": "code",
   "execution_count": 24,
   "metadata": {
    "collapsed": false
   },
   "outputs": [
    {
     "name": "stdout",
     "output_type": "stream",
     "text": [
      "# CNV with score == 0.:  27\n",
      "# CNV with score >=15 < 17.5 :  5202\n"
     ]
    },
    {
     "data": {
      "text/plain": [
       "3588.2600000000002"
      ]
     },
     "execution_count": 24,
     "metadata": {},
     "output_type": "execute_result"
    }
   ],
   "source": [
    "print(\"# CNV with score == 0.: \", (tmp==0.).sum())\n",
    "print(\"# CNV with score >=15 < 17.5 : \", np.logical_and(tmp >= 15., tmp < 17.5).sum())\n",
    "tmp.max()"
   ]
  },
  {
   "cell_type": "markdown",
   "metadata": {},
   "source": [
    "__QUESTION Guillaume:__\n",
    "\n",
    "Y a t il seulement 27 CNV qui ont un score de \"zero\" ?"
   ]
  },
  {
   "cell_type": "code",
   "execution_count": 25,
   "metadata": {
    "collapsed": false
   },
   "outputs": [
    {
     "data": {
      "image/png": "[encoded data removed]",
      "text/plain": [
       "<matplotlib.figure.Figure at 0x7ff50aa28950>"
      ]
     },
     "metadata": {},
     "output_type": "display_data"
    }
   ],
   "source": [
    "# if the score is zero, put it to maximum value : it means the CNV has a maximum score\n",
    "clean_score = tmp\n",
    "clean_score[tmp==0.] = tmp.max()\n",
    "h = plt.hist(tmp[tmp < 60], bins=100)"
   ]
  },
  {
   "cell_type": "markdown",
   "metadata": {},
   "source": [
    "### transforms the scores into P(cnv is real)"
   ]
  },
  {
   "cell_type": "code",
   "execution_count": 26,
   "metadata": {
    "collapsed": false
   },
   "outputs": [],
   "source": [
    "# from a copy paste of CNV_scores.xlsx\n",
    "\n",
    "prob_cnv_vrai = \\\n",
    "\"\"\"15\t20\t80\t25\n",
    "17,5\t24\t76\t25\n",
    "20\t36\t64\t25\n",
    "22,5\t44\t56\t25\n",
    "25\t83\t17\t60\n",
    "27,5\t77\t23\t44\n",
    "30\t95\t5\t60\n",
    "\"\"\""
   ]
  },
  {
   "cell_type": "markdown",
   "metadata": {},
   "source": [
    "__ QUESTION Guillaume__ :\n",
    "\n",
    "25 -> 27.5 : 83% true\n",
    "\n",
    "27.5 -> 30 : 77% true\n",
    "\n",
    "Y a t-il eu inversion ? ou s'agit il de bruit ? Reponse : il s'agit de bruit."
   ]
  },
  {
   "cell_type": "code",
   "execution_count": 27,
   "metadata": {
    "collapsed": false
   },
   "outputs": [
    {
     "name": "stdout",
     "output_type": "stream",
     "text": [
      "OrderedDict([(15.0, 0.2), (17.5, 0.24), (20.0, 0.36), (22.5, 0.44), (25.0, 0.83), (27.5, 0.77), (30.0, 0.95)])\n"
     ]
    }
   ],
   "source": [
    "from collections import OrderedDict\n",
    "\n",
    "p_cnv = OrderedDict({})\n",
    "for line in prob_cnv_vrai.splitlines():\n",
    "    line = line.split('\\t')\n",
    "    # print(line)\n",
    "    p_cnv[float(line[0].replace(',','.'))] = float(line[1])/100.\n",
    "\n",
    "    \n",
    "# if model with linear piecewise\n",
    "# p_cnv[45.] = 1.\n",
    "# CORRECTION for a possible inversion - or simply \"smooth\" the curve !\n",
    "# p_cnv[25], p_cnv[27.5] = p_cnv[27.5] , p_cnv[25]\n",
    "\n",
    "print(p_cnv)"
   ]
  },
  {
   "cell_type": "markdown",
   "metadata": {},
   "source": [
    "__QUESTION Guillaume__\n",
    "\n",
    "The last interval -- the one for which proba is 95.0 -- is [30.0, 32.5) ?"
   ]
  },
  {
   "cell_type": "markdown",
   "metadata": {},
   "source": [
    "### Creating a function from score to proba from Guillaume's values"
   ]
  },
  {
   "cell_type": "markdown",
   "metadata": {},
   "source": [
    "#### A piece wise linear function "
   ]
  },
  {
   "cell_type": "code",
   "execution_count": 28,
   "metadata": {
    "collapsed": false
   },
   "outputs": [],
   "source": [
    "# Solution 1 : affine by pieces \n",
    "def aff(bi, bs, vbi, vbs, x0, y0):\n",
    "    \"\"\"\n",
    "    returns the affine function\n",
    "    \"\"\"\n",
    "    a = (vbs - vbi)/(bs - bi)\n",
    "    b = y0  - a*x0\n",
    "    \n",
    "    def this_aff(x):\n",
    "        return a*x + b\n",
    "    \n",
    "    return this_aff\n",
    "\n",
    "def create_score2prob(p_cnv):\n",
    "\n",
    "    # create a dict that has the affine function\n",
    "    pf_cnv = OrderedDict({})\n",
    "    kcnv = p_cnv.keys()\n",
    "\n",
    "    for idx,k in enumerate(kcnv[:-1]):\n",
    "        k1 = kcnv[idx+1]\n",
    "        pf_cnv[k] = aff(k, k1, p_cnv[k], p_cnv[k1], k, p_cnv[k])\n",
    "    \n",
    "    # testing just this \n",
    "    def test_pf_cnv():\n",
    "        assert pf_cnv[15](15) == .20\n",
    "        assert abs(pf_cnv[15](17.5) - pf_cnv[17.5](17.5)) < np.finfo(float).eps\n",
    "        assert abs(pf_cnv[17.5](20) - pf_cnv[20.](20.)) < np.finfo(float).eps\n",
    "        assert abs(pf_cnv[20.](22.5) - pf_cnv[22.5](22.5)) < np.finfo(float).eps\n",
    "        #assert pf_cnv[30](45) == 1.\n",
    "        return True\n",
    "    test_pf_cnv()\n",
    "    \n",
    "    # function linear piecewise:\n",
    "    def sc2prob(sc):\n",
    "        \"\"\"\n",
    "        returns the proba that cnv with score sc is a cnv; \n",
    "        \"\"\"\n",
    "        # \n",
    "        assert sc >= 15.\n",
    "        kcnv = pf_cnv.keys()\n",
    "        \n",
    "        # if greater than the last key, returns 1.0\n",
    "        if sc >= kcnv[-1]:\n",
    "            return 1.0\n",
    "        \n",
    "        idx = 0\n",
    "        while sc > kcnv[idx+1]: idx += 1\n",
    "        \n",
    "        return pf_cnv[kcnv[idx]](sc)\n",
    "    \n",
    "    return sc2prob\n",
    "    "
   ]
  },
  {
   "cell_type": "markdown",
   "metadata": {},
   "source": [
    "### TEST score2proba\n"
   ]
  },
  {
   "cell_type": "code",
   "execution_count": 29,
   "metadata": {
    "collapsed": false
   },
   "outputs": [
    {
     "data": {
      "text/plain": [
       "[<matplotlib.lines.Line2D at 0x7ff50ddfca10>]"
      ]
     },
     "execution_count": 29,
     "metadata": {},
     "output_type": "execute_result"
    },
    {
     "data": {
      "image/png": "[encoded data removed]",
      "text/plain": [
       "<matplotlib.figure.Figure at 0x7ff50a8ee450>"
      ]
     },
     "metadata": {},
     "output_type": "display_data"
    }
   ],
   "source": [
    "score2prob = create_score2prob(p_cnv)\n",
    "scores = np.arange(15,50,1)\n",
    "probs = [score2prob(sc) for sc in scores]\n",
    "plt.plot(scores, probs)"
   ]
  },
  {
   "cell_type": "markdown",
   "metadata": {},
   "source": [
    "#### Definition with a corrected regression line"
   ]
  },
  {
   "cell_type": "code",
   "execution_count": 30,
   "metadata": {
    "collapsed": false
   },
   "outputs": [
    {
     "data": {
      "text/plain": [
       "[<matplotlib.lines.Line2D at 0x7ff50df9b650>,\n",
       " <matplotlib.lines.Line2D at 0x7ff50df9b8d0>]"
      ]
     },
     "execution_count": 30,
     "metadata": {},
     "output_type": "execute_result"
    },
    {
     "data": {
      "image/png": "[encoded data removed]",
      "text/plain": [
       "<matplotlib.figure.Figure at 0x7ff50a746110>"
      ]
     },
     "metadata": {},
     "output_type": "display_data"
    }
   ],
   "source": [
    "from scipy.interpolate import UnivariateSpline as spl\n",
    "\n",
    "def create_score2prob_v2(p_cnv):\n",
    "\n",
    "    kpcnv = p_cnv.keys()\n",
    "    lin_funct = spl(kpcnv, p_cnv.values(), k=1)\n",
    "    #x = np.arange(0,50,1)\n",
    "    #plt.plot(x, lin_funct(x), '-', p_cnv.keys(), p_cnv.values(), '+')\n",
    "\n",
    "    (x1, x2) = (kpcnv[0], kpcnv[-1])\n",
    "    a = (lin_funct(x2) - lin_funct(x1))/(x2 - x1)\n",
    "    b = lin_funct(x2) - a*x2\n",
    "    x_where_y_is_1 = (1. - b)/a\n",
    "    x_where_y_is_0 = (-b)/a\n",
    "\n",
    "    \n",
    "    def sc2prob(x):\n",
    "        if x < x_where_y_is_0:\n",
    "            return 0.\n",
    "        elif x < x_where_y_is_1:\n",
    "            return lin_funct(x)\n",
    "        else:\n",
    "            return 1.\n",
    "    \n",
    "    return sc2prob\n",
    "\n",
    "x = np.arange(0,50,1)\n",
    "score2prob = create_score2prob_v2(p_cnv)\n",
    "plt.plot(x, [score2prob(_) for _ in x], '-', p_cnv.keys(), p_cnv.values(), '+')"
   ]
  },
  {
   "cell_type": "code",
   "execution_count": 31,
   "metadata": {
    "collapsed": false
   },
   "outputs": [],
   "source": [
    "p_scores = [score2prob(sc) for sc in clean_score]\n",
    "assert len(p_scores) == EXPECTED_LINES -1 "
   ]
  },
  {
   "cell_type": "markdown",
   "metadata": {},
   "source": [
    "## Finally, putting things together "
   ]
  },
  {
   "cell_type": "code",
   "execution_count": 32,
   "metadata": {
    "collapsed": false
   },
   "outputs": [
    {
     "name": "stdout",
     "output_type": "stream",
     "text": [
      "IID_projet :  000067227272\n",
      "IID_genotype :  67227272\n",
      "SampleID :  67227272-660Wq\n",
      "CHR de Merge_CIA_610_660_QC :  2\n",
      "START :  41092148\n",
      "STOP :  41109046\n",
      "TYPE de Merge_CIA_610_660_QC :  1\n",
      "SCORE :  22,895\n",
      "ConcatSNP :  10\n",
      "Gene :  0\n",
      "Location :  Intergenic\n",
      "#Genes :  0\n",
      "#Exons :  0\n",
      "5'gene :  SLC8A1\n",
      "5'dist(kb) :  499,069\n",
      "3'gene :  SGK493\n",
      "3'dist(kb) :  1019.618\n",
      "dups(DGV) :  13\n",
      "dels(DGV) :  832\n",
      "total_known_CNVs(DGV) :  845\n",
      "num_papers(DGV) :  13\n",
      "papers :  Altshuler et al. (2010), Conrad et al. (2005), Conrad et al. (2009), Itsara et al. (2009), Jakobsson et al. (2008), Matsuzaki et al. (2009), McCarroll et al. (2005), McCarroll et al. (2008), Park et al. (2010), Perry et al. (2008), Shaikh et al. (2009), Wang et al. (2007), de Smith et al. (2007)\n",
      "hg18_DGV_1%_Mar2010.txt %overlap :  73%\n",
      "hg18_Chromosome_band.txt :  2p22.1\n",
      "hg18_segdups.txt %overlap :  0%\n",
      "hg18_genome_features.txt :  0\n",
      "hg18_genome_features.txt %overlap :  0%\n",
      "Pvalue_MMAP_V2_sans_intron_and_Intergenic :  \n"
     ]
    }
   ],
   "source": [
    "# re-loading \n",
    "CWD = osp.join(osp.expanduser('~'), 'documents','grants_projects','roberto_projects', \\\n",
    "               'guillaume_huguet_CNV','File_OK')\n",
    "filename = 'Imagen_QC_CIA_MMAP_V2_Annotation.tsv'\n",
    "fullfname = osp.join(CWD, filename)\n",
    "\n",
    "# in numpy array\n",
    "arr = np.loadtxt(fullfname, dtype='str', comments=None, delimiter='\\Tab', \n",
    "                 converters=None, skiprows=0, usecols=None, unpack=False, ndmin=0)\n",
    "\n",
    "line0 = arr[0].split('\\t')\n",
    "DANGER = 'Pvalue_MMAP_V2_sans_intron_and_Intergenic'\n",
    "SCORE = 'SCORE'\n",
    "\n",
    "i_DANGER = line0.index(DANGER)\n",
    "i_SCORE = line0.index(SCORE)\n",
    "i_START = line0.index('START')\n",
    "i_STOP = line0.index('STOP')\n",
    "i_5pGENE = line0.index(\"5'gene\")\n",
    "i_3pGENE = line0.index(\"3'gene\")\n",
    "i_5pDIST = line0.index(\"5'dist(kb)\")\n",
    "i_3pDIST = line0.index(\"3'dist(kb)\")\n",
    "#i_LOC = line0.index('Location')\n",
    "\n",
    "for idx in range(len(line0)):\n",
    "    print(line0[idx],': ', arr[1].split('\\t')[idx])"
   ]
  },
  {
   "cell_type": "code",
   "execution_count": 33,
   "metadata": {
    "collapsed": false
   },
   "outputs": [],
   "source": [
    "# A function to create unique identifiers of subj, CNV, etc\n",
    "\n",
    "def cnv_uiid(tsv_arr, columns_names, first_line=None):\n",
    "    \"\"\"\n",
    "    columns_names: list of column names with which the uiid are constructed\n",
    "    returns a list if given the full array, \n",
    "    returns a string if given only one line (and the first line)\n",
    "    \"\"\"\n",
    "    \n",
    "    chr2rm = ''.join([',', '.', ' ']) # others: ['!', '?', ...] ?\n",
    "    \n",
    "    if isinstance(tsv_arr, six.string_types) and (first_line != None):\n",
    "        # assume we are given one line of the tsv array\n",
    "        indexes = [first_line.split('\\t').index(colname) for colname in columns_names]\n",
    "        uiid = '_'.join([(tsv_arr.split('\\t')[ind]).translate(None,chr2rm) for ind in indexes])\n",
    "        \n",
    "    else: \n",
    "        uiid = []\n",
    "        indexes = [tsv_arr[0].split('\\t').index(colname) for colname in columns_names]\n",
    "        for line in tsv_arr[1:]:\n",
    "            ll = line.split('\\t')\n",
    "            uiid.append('_'.join([ll[ind] for ind in indexes]))\n",
    "\n",
    "    return uiid"
   ]
  },
  {
   "cell_type": "code",
   "execution_count": 35,
   "metadata": {
    "collapsed": false
   },
   "outputs": [
    {
     "name": "stdout",
     "output_type": "stream",
     "text": [
      "['IID_projet', 'IID_genotype', 'SampleID', 'CHR de Merge_CIA_610_660_QC', 'START', 'STOP', 'TYPE de Merge_CIA_610_660_QC', 'SCORE', 'ConcatSNP', 'Gene', 'Location', '#Genes', '#Exons', \"5'gene\", \"5'dist(kb)\", \"3'gene\", \"3'dist(kb)\", 'dups(DGV)', 'dels(DGV)', 'total_known_CNVs(DGV)', 'num_papers(DGV)', 'papers', 'hg18_DGV_1%_Mar2010.txt %overlap', 'hg18_Chromosome_band.txt', 'hg18_segdups.txt %overlap', 'hg18_genome_features.txt', 'hg18_genome_features.txt %overlap', 'Pvalue_MMAP_V2_sans_intron_and_Intergenic']\n"
     ]
    }
   ],
   "source": [
    "print(line0)"
   ]
  },
  {
   "cell_type": "code",
   "execution_count": 38,
   "metadata": {
    "collapsed": false
   },
   "outputs": [
    {
     "name": "stdout",
     "output_type": "stream",
     "text": [
      "with names from:  ['IID_projet', 'IID_genotype', 'CHR de Merge_CIA_610_660_QC', 'START', 'STOP']\n",
      "we have 19541 unique elements out of 19541 rows in the tsv\n",
      "with names from:  ['CHR de Merge_CIA_610_660_QC', 'START', 'STOP']\n",
      "we have 7337 unique elements out of 19541 rows in the tsv\n",
      "with names from:  ['IID_projet']\n",
      "we have 1712 unique elements out of 19541 rows in the tsv\n"
     ]
    }
   ],
   "source": [
    "#names_from = ['START', 'STOP', \"5'gene\", \"3'gene\", \"5'dist(kb)\", \"3'dist(kb)\"]\n",
    "\n",
    "#---------- ligne uniques:\n",
    "names_from = ['IID_projet', 'IID_genotype', \"CHR de Merge_CIA_610_660_QC\", 'START', 'STOP'] \n",
    "cnv_names = cnv_uiid(arr, names_from)\n",
    "print(\"with names from: \", names_from)\n",
    "print(\"we have {} unique elements out of {} rows in the tsv\".format(\n",
    "                                len(np.unique(cnv_names)), len(cnv_names)))\n",
    "\n",
    "#---------- CNV uniques ? \n",
    "names_from = [\"CHR de Merge_CIA_610_660_QC\", 'START', 'STOP'] \n",
    "cnv_names = cnv_uiid(arr, names_from)\n",
    "print(\"with names from: \", names_from)\n",
    "print(\"we have {} unique elements out of {} rows in the tsv\".format(\n",
    "                                len(np.unique(cnv_names)), len(cnv_names)))\n",
    "\n",
    "#---------- CNV uniques ? \n",
    "\"\"\"\n",
    "names_from = ['START', 'STOP', \"5'gene\", \"3'gene\", \"5'dist(kb)\", \"3'dist(kb)\"]\n",
    "cnv_names = cnv_uiid(arr, names_from)\n",
    "print(\"with names from: \", names_from)\n",
    "print(\"we have {} unique elements out of {} rows in the tsv\".format(\n",
    "                                len(np.unique(cnv_names)), len(cnv_names)))\n",
    "\"\"\"\n",
    "\n",
    "#---------- sujets uniques ? \n",
    "names_from = ['IID_projet'] # , 'IID_genotype'] \n",
    "cnv_names = cnv_uiid(arr, names_from)\n",
    "print(\"with names from: \", names_from)\n",
    "print(\"we have {} unique elements out of {} rows in the tsv\".format(\n",
    "                                len(np.unique(cnv_names)), len(cnv_names)))\n",
    "\n",
    "dangers = np.asarray([line.split('\\t')[i_DANGER] for line in arr[1:]])\n",
    "scores = np.asarray([line.split('\\t')[i_SCORE] for line in arr[1:]])\n",
    "\n",
    "#danger_not_empty = dangers != ''\n",
    "#print(danger_not_empty.sum())\n",
    "#print(len(np.unique(cnv_name)))\n",
    "#print(cnv_name[:10])"
   ]
  },
  {
   "cell_type": "markdown",
   "metadata": {},
   "source": [
    "### Create a dict of the cnv"
   ]
  },
  {
   "cell_type": "code",
   "execution_count": 39,
   "metadata": {
    "collapsed": false
   },
   "outputs": [],
   "source": [
    "#gene_name_set = set([line.split('\\t')[i_3pGENE] for line in arr[1:]]) | \\\n",
    "#           set([line.split('\\t')[i_5pGENE] for line in arr[1:]])\n",
    "#print('len(gene_name_set): ', len(gene_name_set))\n",
    "\n",
    "# this creates an dict where the keys are unique indentifiers of cnv, values \n",
    "# are (dangerosity, probability_cnv)\n",
    "\n",
    "cnv = OrderedDict({})\n",
    "names_from = [\"CHR de Merge_CIA_610_660_QC\", 'START', 'STOP']  #, \"5'gene\", \"3'gene\", \"5'dist(kb)\", \"3'dist(kb)\"]\n",
    "blank_dgr = 0\n",
    "\n",
    "for line in arr[1:]:\n",
    "    lline = line.split('\\t')\n",
    "    dgr = lline[i_DANGER]\n",
    "    scr  = lline[i_SCORE]\n",
    "    cnv_iid = cnv_uiid(line, names_from, arr[0])\n",
    "    \n",
    "    if dgr != '':\n",
    "        add_cnv = (danger_score(lline[i_DANGER], pH1_with_apriori),\n",
    "                   score2prob(lline[i_SCORE]))\n",
    "        if cnv_iid in cnv.keys():\n",
    "            cnv[cnv_iid].append(add_cnv)\n",
    "        else:\n",
    "            cnv[cnv_iid] = [add_cnv]\n",
    "    else:\n",
    "        blank_dgr += 1\n"
   ]
  },
  {
   "cell_type": "code",
   "execution_count": 40,
   "metadata": {
    "collapsed": false
   },
   "outputs": [
    {
     "name": "stdout",
     "output_type": "stream",
     "text": [
      "3374 12294\n",
      "['10_134903403_134996704', '18_2578360_2611407', '17_17683629_17693534', '18_2576907_2611407', '17_17651995_17693534']\n"
     ]
    }
   ],
   "source": [
    "print(len(cnv), (blank_dgr))\n",
    "print([k for k in cnv.keys()[:5]])"
   ]
  },
  {
   "cell_type": "code",
   "execution_count": 41,
   "metadata": {
    "collapsed": false
   },
   "outputs": [
    {
     "name": "stdout",
     "output_type": "stream",
     "text": [
      "with names from:  ['CHR de Merge_CIA_610_660_QC', 'START', 'STOP']\n",
      "we have 7337 unique elements out of 19541 rows in the tsv\n"
     ]
    }
   ],
   "source": [
    "names_from = [\"CHR de Merge_CIA_610_660_QC\", 'START', 'STOP'] \n",
    "cnv_names = cnv_uiid(arr, names_from)\n",
    "print(\"with names from: \", names_from)\n",
    "print(\"we have {} unique elements out of {} rows in the tsv\".format(\n",
    "                                len(np.unique(cnv_names)), len(cnv_names)))\n",
    "#print(cnv_names[:5])\n",
    "\n",
    "# To be check : the 7337 unique cnv should reduce to 3374 when we remove those for which dgr == ''\n"
   ]
  },
  {
   "cell_type": "code",
   "execution_count": 42,
   "metadata": {
    "collapsed": false
   },
   "outputs": [
    {
     "name": "stdout",
     "output_type": "stream",
     "text": [
      "3374\n",
      "1_995669_1011521 :  [(0.99999999999999312, 1.0)]\n",
      "22_19339596_19429297 :  [(3.0, 1.0), (3.0, 1.0), (3.0, 1.0)]\n",
      "22_19339596_19424781 :  [(3.0, 1.0), (3.0, 1.0), (3.0, 1.0), (3.0, 1.0), (3.0, 1.0), (3.0, 1.0), (3.0, 1.0), (3.0, 1.0), (3.0, 1.0), (3.0, 1.0), (3.0, 1.0), (3.0, 1.0)]\n",
      "22_19343347_19429297 :  [(3.0, 1.0)]\n",
      "22_19345218_19424781 :  [(3.0, 1.0)]\n",
      "22_18328337_18337023 :  [(1.0, 1.0), (1.0, 1.0), (1.0, 1.0)]\n",
      "22_18330428_18337023 :  [(1.0, 1.0)]\n",
      "22_18328337_18358558 :  [(2.0, 1.0)]\n",
      "22_18336781_18400229 :  [(3.0, 1.0)]\n",
      "2_110243431_110339819 :  [(1.9999998829812593, 1.0), (1.9999998829812593, 1.0), (1.9999998829812593, 1.0)]\n",
      "21_14830513_14852044 :  [(0.99999999999989209, 1.0), (0.99999999999989209, 1.0), (0.99999999999989209, 1.0)]\n",
      "11_127888014_127946707 :  [(0.99999999999999989, 1.0)]\n",
      "7_73481452_73512817 :  [(0.99999999999998568, 1.0)]\n",
      "22_48960865_49003996 :  [(2.9999999979009999, 1.0)]\n",
      "22_48951780_48979320 :  [(1.9999999996940001, 1.0)]\n",
      "22_48951780_49000551 :  [(3.9999999977480001, 1.0), (3.9999999977480001, 1.0)]\n",
      "22_48943190_49003996 :  [(3.9999999977480001, 1.0)]\n",
      "22_48943190_49000551 :  [(3.9999999977480001, 1.0)]\n",
      "16_29554843_30085308 :  [(26.0, 1.0)]\n",
      "15_29143717_29172089 :  [(1.9999999998241, 1.0)]\n"
     ]
    }
   ],
   "source": [
    "__kcnv = cnv.keys()\n",
    "print(len(__kcnv))\n",
    "for _ in __kcnv[3330:3350]:\n",
    "    print(_,': ',cnv[_])"
   ]
  },
  {
   "cell_type": "code",
   "execution_count": 43,
   "metadata": {
    "collapsed": false
   },
   "outputs": [],
   "source": [
    "#for k in cnv.keys():\n",
    "#    if len(cnv[k]) > 1:\n",
    "#        if len(set([cnv[k][i][0] for i in range(len(cnv[k]))])) > 1:\n",
    "#            pass\n",
    "#            # print(cnv[k])\n",
    "#        #print([t[0] for t in cnv[k]])"
   ]
  },
  {
   "cell_type": "markdown",
   "metadata": {},
   "source": [
    "### Create a dictionary of the subjects - "
   ]
  },
  {
   "cell_type": "code",
   "execution_count": 44,
   "metadata": {
    "collapsed": false
   },
   "outputs": [],
   "source": [
    "#print(len(arr), line0)"
   ]
  },
  {
   "cell_type": "code",
   "execution_count": 45,
   "metadata": {
    "collapsed": false
   },
   "outputs": [],
   "source": [
    "cnv = OrderedDict({})\n",
    "#names_from = ['START', 'STOP', \"5'gene\", \"3'gene\", \"5'dist(kb)\", \"3'dist(kb)\"]\n",
    "names_from = ['IID_projet']\n",
    "\n",
    "for line in arr[1:]:\n",
    "    lline = line.split('\\t')\n",
    "    dgr = lline[i_DANGER]\n",
    "    scr  = lline[i_SCORE]\n",
    "    sub_iid = cnv_uiid(line, names_from, arr[0])\n",
    "    \n",
    "    if dgr != '':\n",
    "        add_cnv = (danger_score(lline[i_DANGER], pH1_with_apriori),\n",
    "                   score2prob(lline[i_SCORE]))\n",
    "        if sub_iid in cnv.keys():\n",
    "            cnv[sub_iid].append(add_cnv)\n",
    "        else:\n",
    "            cnv[sub_iid] = [add_cnv]"
   ]
  },
  {
   "cell_type": "markdown",
   "metadata": {},
   "source": [
    "#### Histogram of the number of cnv used to compute dangerosity"
   ]
  },
  {
   "cell_type": "code",
   "execution_count": 46,
   "metadata": {
    "collapsed": false
   },
   "outputs": [
    {
     "name": "stdout",
     "output_type": "stream",
     "text": [
      "1656\n",
      "59\n"
     ]
    },
    {
     "data": {
      "image/png": "[encoded data removed]",
      "text/plain": [
       "<matplotlib.figure.Figure at 0x7ff50d81a490>"
      ]
     },
     "metadata": {},
     "output_type": "display_data"
    }
   ],
   "source": [
    "print(len(cnv))\n",
    "nbcnv = [len(cnv[sb]) for sb in cnv]\n",
    "hist = plt.hist(nbcnv, bins=50)\n",
    "print(np.max(np.asarray(nbcnv)))"
   ]
  },
  {
   "cell_type": "code",
   "execution_count": 47,
   "metadata": {
    "collapsed": false
   },
   "outputs": [],
   "source": [
    "# definition of dangerosity from a list of cnv\n",
    "def dangerosity(listofcnvs):\n",
    "    \"\"\"\n",
    "    inputs: list tuples (danger_score, proba_cnv)\n",
    "    returns: a dangerosity score \n",
    "    \"\"\"\n",
    "    last = -1 #slicing the last\n",
    "    tmp = [np.asarray(t) for t in zip(*listofcnvs)]\n",
    "    return tmp[0].dot(tmp[1])\n",
    "\n",
    "# or: return np.asarray([dgr*prob for (dgr,prob) in listofcnvs]).cumsum()[last]\n"
   ]
  },
  {
   "cell_type": "markdown",
   "metadata": {},
   "source": [
    "### Testing dangerosity"
   ]
  },
  {
   "cell_type": "code",
   "execution_count": 48,
   "metadata": {
    "collapsed": false
   },
   "outputs": [
    {
     "name": "stdout",
     "output_type": "stream",
     "text": [
      "[(0.99999942000033648, 1.0), (0.48377137638161954, 1.0), (0.49999999999999989, 1.0), (1.1666666666666665, 1.0)]  yields  3.15043746305\n"
     ]
    }
   ],
   "source": [
    "for k in range(1,30, 30):\n",
    "    print(cnv[cnv.keys()[k]], ' yields ', dangerosity(cnv[cnv.keys()[k]]))\n",
    "    \n",
    "test_dangerosity_input = [[(1., .5), (1., .5), (1., .5), (1., .5)],\n",
    "                          [(2., 1.)],\n",
    "                          [(10000., 0.)]]\n",
    "test_dangerosity_output = [2., 2., 0]\n",
    "\n",
    "#print( [dangerosity(icnv) for icnv in test_dangerosity_input]) # == test_dangerosity_output\n",
    "assert( [dangerosity(icnv) for icnv in test_dangerosity_input] == test_dangerosity_output)"
   ]
  },
  {
   "cell_type": "markdown",
   "metadata": {},
   "source": [
    "### Printing out results"
   ]
  },
  {
   "cell_type": "code",
   "execution_count": 49,
   "metadata": {
    "collapsed": false
   },
   "outputs": [],
   "source": [
    "outfile = 'dangerosity_cnv.txt'\n",
    "fulloutfile = osp.join(CWD, outfile)\n",
    "\n",
    "with open(fulloutfile, 'w') as outf:\n",
    "    for sub in cnv:\n",
    "        outf.write(\"\\t\".join([sub, str(dangerosity(cnv[sub]))]) + \"\\n\")"
   ]
  },
  {
   "cell_type": "code",
   "execution_count": null,
   "metadata": {
    "collapsed": false
   },
   "outputs": [],
   "source": []
  },
  {
   "cell_type": "code",
   "execution_count": null,
   "metadata": {
    "collapsed": true
   },
   "outputs": [],
   "source": []
  }
 ],
 "metadata": {
  "kernelspec": {
   "display_name": "Python 2",
   "language": "python",
   "name": "python2"
  },
  "language_info": {
   "codemirror_mode": {
    "name": "ipython",
    "version": 2
   },
   "file_extension": ".py",
   "mimetype": "text/x-python",
   "name": "python",
   "nbconvert_exporter": "python",
   "pygments_lexer": "ipython2",
   "version": "2.7.6"
  }
 },
 "nbformat": 4,
 "nbformat_minor": 0
}
