{
 "cells": [
  {
   "cell_type": "code",
   "execution_count": 1,
   "metadata": {
    "collapsed": false
   },
   "outputs": [
    {
     "name": "stdout",
     "output_type": "stream",
     "text": [
      "Populating the interactive namespace from numpy and matplotlib\n"
     ]
    }
   ],
   "source": [
    "%pylab inline"
   ]
  },
  {
   "cell_type": "code",
   "execution_count": 2,
   "metadata": {
    "collapsed": false
   },
   "outputs": [
    {
     "data": {
      "text/plain": [
       "<module 'cnv_util' from 'cnv_util.pyc'>"
      ]
     },
     "execution_count": 2,
     "metadata": {},
     "output_type": "execute_result"
    }
   ],
   "source": [
    "import numpy as np\n",
    "import scipy.stats as sst\n",
    "import matplotlib.pyplot as plt\n",
    "import os\n",
    "import os.path as osp\n",
    "from __future__ import print_function\n",
    "from __future__ import division\n",
    "import six\n",
    "from datetime import datetime\n",
    "import cnv_util as util\n",
    "reload(util)"
   ]
  },
  {
   "cell_type": "markdown",
   "metadata": {},
   "source": [
    "## Reading TSV files "
   ]
  },
  {
   "cell_type": "code",
   "execution_count": 3,
   "metadata": {
    "collapsed": false
   },
   "outputs": [],
   "source": [
    "CWD = osp.join(osp.expanduser('~'), 'documents','grants_projects','roberto_projects', \\\n",
    "               'guillaume_huguet_CNV','27Oct2015')\n",
    "filename = '20151027_Imagen_Annot_per_genes_MMAP_HI_TADA.txt'\n",
    "fullfname = osp.join(CWD, filename)"
   ]
  },
  {
   "cell_type": "code",
   "execution_count": 4,
   "metadata": {
    "collapsed": false
   },
   "outputs": [],
   "source": [
    "arr_haplo = np.loadtxt(fullfname, dtype='str', comments=None, delimiter='\\Tab', \n",
    "                 converters=None, skiprows=0, usecols=None, unpack=False, ndmin=0)"
   ]
  },
  {
   "cell_type": "markdown",
   "metadata": {},
   "source": [
    "### some basic check for the columns of interest "
   ]
  },
  {
   "cell_type": "code",
   "execution_count": 5,
   "metadata": {
    "collapsed": false,
    "scrolled": true
   },
   "outputs": [
    {
     "name": "stdout",
     "output_type": "stream",
     "text": [
      "['IID_Projet', 'IID_Imagen_Merged_Pe_Qu', 'Chromosome', 'Loci_Start', 'Loci_Stop', 'Concat_CN=Type', 'Concat#SNP', 'Max_Score', 'All_Gene', 'Per_Genes', 'MMAP_signature', 'Haplosuff_V3', 'tadaFdrAscSscExomeSscAgpSmallDel']\n",
      "11 10 9\n",
      "{'tadaFdrAscSscExomeSscAgpSmallDel': 12, 'Loci_Stop': 4, 'Haplosuff_V3': 11, 'MMAP_signature': 10, 'IID_Projet': 0, 'Concat_CN=Type': 5, 'Concat#SNP': 6, 'All_Gene': 8, 'IID_Imagen_Merged_Pe_Qu': 1, 'Loci_Start': 3, 'Per_Genes': 9, 'Max_Score': 7, 'Chromosome': 2}\n"
     ]
    }
   ],
   "source": [
    "EXPECTED_LINES = 30752\n",
    "expected_nb_values = EXPECTED_LINES - 1 \n",
    "assert arr_haplo.shape[0] == EXPECTED_LINES\n",
    "line0 = arr_haplo[0].split('\\t')\n",
    "print(line0)\n",
    "\n",
    "idxs = {}\n",
    "for col_name in line0:\n",
    "    idxs[col_name] = line0.index(col_name)\n",
    "\n",
    "i_haplo = line0.index('Haplosuff_V3')\n",
    "i_mmap = line0.index('MMAP_signature')\n",
    "i_per_gene = line0.index('Per_Genes')\n",
    "i_score = line0.index('Max_Score')\n",
    "print(i_haplo, i_mmap, i_per_gene)\n",
    "print(idxs)"
   ]
  },
  {
   "cell_type": "code",
   "execution_count": 6,
   "metadata": {
    "collapsed": false
   },
   "outputs": [],
   "source": [
    "# check that all lines have the same number of tab separated elements \n",
    "larr =  np.asarray([len(arr_haplo[i].split('\\t')) for i in range(arr_haplo.shape[0])])\n",
    "assert not (larr - larr[0]).any() # all element have the same value "
   ]
  },
  {
   "cell_type": "code",
   "execution_count": 7,
   "metadata": {
    "collapsed": false
   },
   "outputs": [],
   "source": [
    "haplo = np.asarray([line.split('\\t')[i_haplo] for line in arr_haplo[1:]])\n",
    "mmap = np.asarray([line.split('\\t')[i_mmap] for line in arr_haplo[1:]])\n",
    "# print(np.unique(scores))\n",
    "assert len(haplo) == expected_nb_values\n",
    "assert len(mmap) == expected_nb_values"
   ]
  },
  {
   "cell_type": "code",
   "execution_count": 8,
   "metadata": {
    "collapsed": false
   },
   "outputs": [
    {
     "name": "stdout",
     "output_type": "stream",
     "text": [
      "(30751,) 30751 (7951,)\n"
     ]
    }
   ],
   "source": [
    "# i_ND = np.where(haplo == 'ND')\n",
    "haplo_is_ND = (haplo == 'ND')\n",
    "haplo_not_ND = (haplo != 'ND')\n",
    "# print(a_ND.shape, i_ND[0].shape)\n",
    "print(haplo.shape, expected_nb_values, haplo[haplo_is_ND].shape)"
   ]
  },
  {
   "cell_type": "code",
   "execution_count": 9,
   "metadata": {
    "collapsed": false
   },
   "outputs": [],
   "source": [
    "haplo_flt = [util.str2floats(h, sep=' ', comma2point=True)[0] for h in haplo[haplo_not_ND]]\n",
    "# _ = plt.hist(haplo_flt, bins=50)"
   ]
  },
  {
   "cell_type": "code",
   "execution_count": 10,
   "metadata": {
    "collapsed": false
   },
   "outputs": [
    {
     "name": "stdout",
     "output_type": "stream",
     "text": [
      "to_keep.shape (30751,) number to keep:  22800\n"
     ]
    }
   ],
   "source": [
    "reload(util)\n",
    "#get_col_vals(col_name, array, comma2point=True, sep=' ', exclude=None, val_len=None)\n",
    "haplo_check = util.get_col_vals('Haplosuff_V3', arr_haplo, exclude='ND',val_len=1)\n",
    "assert np.all(np.abs(haplo_check-haplo_flt)<np.finfo('float').eps)"
   ]
  },
  {
   "cell_type": "markdown",
   "metadata": {},
   "source": [
    "\n",
    "## From here : should be the same as CNV_Guillaume nb"
   ]
  },
  {
   "cell_type": "code",
   "execution_count": 11,
   "metadata": {
    "collapsed": false
   },
   "outputs": [
    {
     "name": "stdout",
     "output_type": "stream",
     "text": [
      "to_keep.shape (30751,) number to keep:  30124\n",
      "5602.56 15.0 0\n"
     ]
    }
   ],
   "source": [
    "reload(util)\n",
    "scores = util.get_col_vals('Max_Score', arr_haplo, exclude='',val_len=None)\n",
    "print(scores.max(), scores.min(), (scores<=np.finfo(float).eps).sum())\n",
    "\n",
    "#h = plt.hist(scores, bins=100, range=(0,150))\n",
    "\n",
    "#h = plt.hist(clean_score[clean_score < 60], bins=100)"
   ]
  },
  {
   "cell_type": "code",
   "execution_count": 12,
   "metadata": {
    "collapsed": false
   },
   "outputs": [],
   "source": [
    "p_cnv = util._build_dict_prob_cnv()\n",
    "score2prob = util.create_score2prob_lin(p_cnv)\n",
    "p_scores = [score2prob(sc) for sc in scores]\n",
    "#h = plt.hist(p_scores, bins=100)\n",
    "\n",
    "# check score2prob function\n",
    "#xs = np.linspace(1,50,50)\n",
    "#plt.plot(xs, [score2prob(x) for x in xs])"
   ]
  },
  {
   "cell_type": "markdown",
   "metadata": {},
   "source": [
    "__QUESTION Guillaume:__\n",
    "\n",
    "Aucun CNV qui ont un score de \"zero\" dans ce fichier?"
   ]
  },
  {
   "cell_type": "markdown",
   "metadata": {},
   "source": [
    "## Finally, putting things together "
   ]
  },
  {
   "cell_type": "code",
   "execution_count": 13,
   "metadata": {
    "collapsed": false
   },
   "outputs": [
    {
     "data": {
      "text/plain": [
       "0.042553191489361694"
      ]
     },
     "execution_count": 13,
     "metadata": {},
     "output_type": "execute_result"
    }
   ],
   "source": [
    "defaultarg = {'pi':0.1, 'beta':0.8}\n",
    "util.danger_score('.5', pval2score=util.pH1_with_apriori, argvals=defaultarg)"
   ]
  },
  {
   "cell_type": "code",
   "execution_count": 14,
   "metadata": {
    "collapsed": false
   },
   "outputs": [
    {
     "name": "stdout",
     "output_type": "stream",
     "text": [
      "with names from:  ['Chromosome', 'Loci_Start', 'Loci_Stop']\n",
      "we have 5965 unique elements out of 30751 rows in the tsv\n"
     ]
    }
   ],
   "source": [
    "#names_from = ['START', 'STOP', \"5'gene\", \"3'gene\", \"5'dist(kb)\", \"3'dist(kb)\"]\n",
    "\n",
    "#---------- CNV uniques ? \n",
    "names_from =  ['Chromosome', 'Loci_Start', 'Loci_Stop']\n",
    "cnv_names = util.make_uiid(arr_haplo, names_from)\n",
    "print(\"with names from: \", names_from)\n",
    "print(\"we have {} unique elements out of {} rows in the tsv\".format(\n",
    "                                len(np.unique(cnv_names)), len(cnv_names)))\n"
   ]
  },
  {
   "cell_type": "markdown",
   "metadata": {},
   "source": [
    "### Create a dict of the cnv"
   ]
  },
  {
   "cell_type": "code",
   "execution_count": 15,
   "metadata": {
    "collapsed": false
   },
   "outputs": [
    {
     "name": "stdout",
     "output_type": "stream",
     "text": [
      "{'tadaFdrAscSscExomeSscAgpSmallDel': 12, 'Loci_Stop': 4, 'Haplosuff_V3': 11, 'MMAP_signature': 10, 'IID_Projet': 0, 'Concat_CN=Type': 5, 'Concat#SNP': 6, 'All_Gene': 8, 'IID_Imagen_Merged_Pe_Qu': 1, 'Loci_Start': 3, 'Per_Genes': 9, 'Max_Score': 7, 'Chromosome': 2}\n"
     ]
    }
   ],
   "source": [
    "print(idxs)"
   ]
  },
  {
   "cell_type": "code",
   "execution_count": 16,
   "metadata": {
    "collapsed": false
   },
   "outputs": [],
   "source": [
    "from collections import OrderedDict\n",
    "reload(util)\n",
    "cnv = OrderedDict()\n",
    "names_from =  ['Chromosome', 'Loci_Start', 'Loci_Stop']\n",
    "                        #, \"5'gene\", \"3'gene\", \"5'dist(kb)\", \"3'dist(kb)\"]\n",
    "\n",
    "bad_lines_scr = []\n",
    "bad_lines_dgr = []\n",
    "pb_dgr = 0\n",
    "pb_scr = 0\n",
    "for line in arr_haplo[1:]:\n",
    "\n",
    "    scrfl = util.get_one_col_val(idxs['Max_Score'], line, \n",
    "                            comma2point=True, sep=' ', \n",
    "                            exclude='', val_len=1)\n",
    "    \n",
    "    dgr = util.get_one_col_val(idxs['MMAP_signature'], line, \n",
    "                            comma2point=True, sep=' ', \n",
    "                            exclude='ND', val_len=1)\n",
    "    \n",
    "    if (not scrfl):\n",
    "        pb_scr += 1\n",
    "        bad_lines_scr.append(line)\n",
    "    if (not dgr):\n",
    "        pb_dgr += 1\n",
    "        bad_lines_dgr.append(line)\n",
    "    if (not scrfl) or (not dgr):\n",
    "        continue\n",
    "    \n",
    "    cnv_iid = util.make_uiid(line, names_from, arr_haplo[0])\n",
    "    \n",
    "    try:\n",
    "        p_dgr = util.pH1_with_apriori(dgr, pi=.5, beta=.8)\n",
    "        add_cnv = ( p_dgr, score2prob(scrfl) )\n",
    "    except:\n",
    "        print(dgr, scrfl)\n",
    "        raise\n",
    "\n",
    "    if cnv_iid in cnv.keys():\n",
    "        cnv[cnv_iid].append(add_cnv)\n",
    "    else:\n",
    "        cnv[cnv_iid] = [add_cnv]"
   ]
  },
  {
   "cell_type": "code",
   "execution_count": 17,
   "metadata": {
    "collapsed": false
   },
   "outputs": [
    {
     "data": {
      "text/plain": [
       "(627, 627)"
      ]
     },
     "execution_count": 17,
     "metadata": {},
     "output_type": "execute_result"
    }
   ],
   "source": [
    "len(bad_lines_scr), pb_scr"
   ]
  },
  {
   "cell_type": "code",
   "execution_count": 18,
   "metadata": {
    "collapsed": false
   },
   "outputs": [
    {
     "name": "stdout",
     "output_type": "stream",
     "text": [
      "[('IID_Projet', '000089762809'), ('IID_Imagen_Merged_Pe_Qu', '89762809-660Wq'), ('Chromosome', 'X'), ('Loci_Start', '108804429'), ('Loci_Stop', '108876094'), ('Concat_CN=Type', '3'), ('Concat#SNP', '8'), ('Max_Score', '21,969'), ('All_Gene', 'ACSL4'), ('Per_Genes', 'ACSL4'), ('MMAP_signature', 'ND'), ('Haplosuff_V3', '0,156'), ('tadaFdrAscSscExomeSscAgpSmallDel', '0,933969163')]\n"
     ]
    }
   ],
   "source": [
    "#print(line0)\n",
    "#print(bad_lines_scr[0])\n",
    "print(zip(line0, bad_lines_dgr[2].split('\\t')))"
   ]
  },
  {
   "cell_type": "code",
   "execution_count": 19,
   "metadata": {
    "collapsed": false
   },
   "outputs": [
    {
     "name": "stdout",
     "output_type": "stream",
     "text": [
      "number of cnv 5730\n",
      "[('19_63523631_63588524', [(0.16666666666666663, 0.31349457142857134), (0.16666666666666663, 0.31349457142857134), (0.16666666666666663, 0.31349457142857134), (0.16666666666666663, 0.31349457142857134), (0.16666666666666663, 0.31349457142857134)]), ('12_8975801_9180220', [(0.16666666666666663, 0.3218645714285714), (0.16666666666666663, 0.3218645714285714), (0.16666666666666663, 0.3218645714285714), (0.16666666666666663, 0.3218645714285714), (0.16666666666666663, 0.3218645714285714), (0.16666666666666663, 0.3218645714285714)]), ('12_9045199_9440339', [(0.9953066910169112, 1.0), (0.9928003853455415, 1.0), (0.983928695631999, 1.0), (0.9953066910169112, 1.0), (0.983928695631999, 1.0), (0.9953066910169112, 1.0), (0.983928695631999, 1.0), (0.983928695631999, 1.0), (0.983928695631999, 1.0), (0.983928695631999, 1.0)]), ('3_139307462_139508086', [(0.2507496367258369, 0.22925457142857142), (0.2507496367258369, 0.22925457142857142), (0.2507496367258369, 0.22925457142857142), (0.2507496367258369, 0.22925457142857142), (0.2507496367258369, 0.22925457142857142)]), ('3_152993775_153037439', [(0.16666666666666663, 1.0), (0.16666666666666663, 1.0)])]\n"
     ]
    }
   ],
   "source": [
    "print('number of cnv', len(cnv))\n",
    "print([(k,v) for k,v in cnv.items()[:5]])"
   ]
  },
  {
   "cell_type": "markdown",
   "metadata": {},
   "source": [
    "### Create a dictionary of the subjects - "
   ]
  },
  {
   "cell_type": "markdown",
   "metadata": {},
   "source": [
    "#### Histogram of the number of cnv used to compute dangerosity"
   ]
  },
  {
   "cell_type": "code",
   "execution_count": 20,
   "metadata": {
    "collapsed": false
   },
   "outputs": [
    {
     "name": "stdout",
     "output_type": "stream",
     "text": [
      "5730\n",
      "1026\n"
     ]
    },
    {
     "data": {
      "image/png": "[encoded data removed]",
      "text/plain": [
       "<matplotlib.figure.Figure at 0x7f4c140ecfd0>"
      ]
     },
     "metadata": {},
     "output_type": "display_data"
    }
   ],
   "source": [
    "print(len(cnv))\n",
    "nbcnv = [len(cnv[sb]) for sb in cnv]\n",
    "hist = plt.hist(nbcnv, bins=100, range=(0,100))\n",
    "print(np.max(np.asarray(nbcnv)))"
   ]
  },
  {
   "cell_type": "code",
   "execution_count": 27,
   "metadata": {
    "collapsed": false
   },
   "outputs": [],
   "source": [
    "# definition of dangerosity from a list of cnv\n",
    "def dangerosity(listofcnvs):\n",
    "    \"\"\"\n",
    "    inputs: list tuples (danger_score, proba_cnv)\n",
    "    returns: a dangerosity score \n",
    "    \"\"\"\n",
    "    last = -1 #slicing the last\n",
    "    tmp = [np.asarray(t) for t in zip(*listofcnvs)]\n",
    "    return tmp[0].dot(tmp[1])\n",
    "\n",
    "# or: return np.asarray([dgr*prob for (dgr,prob) in listofcnvs]).cumsum()[last]\n"
   ]
  },
  {
   "cell_type": "code",
   "execution_count": 36,
   "metadata": {
    "collapsed": false
   },
   "outputs": [
    {
     "name": "stdout",
     "output_type": "stream",
     "text": [
      "[(0.2507496367258369, 0.2211545714285713), (0.2507496367258369, 0.2211545714285713), (0.2507496367258369, 0.2211545714285713)]\n",
      "134.200233429\n",
      "14_19283777_19493705\n"
     ]
    },
    {
     "data": {
      "image/png": "[encoded data removed]",
      "text/plain": [
       "<matplotlib.figure.Figure at 0x7f4c112e43d0>"
      ]
     },
     "metadata": {},
     "output_type": "display_data"
    }
   ],
   "source": [
    "# hist = plt.hist(cnv.values(), bins=100) #, range=(0,100))\n",
    "print(cnv[cnv.keys()[1000]])\n",
    "dgr_cnv = [dangerosity(cnv[k]) for k in cnv]\n",
    "print(np.max(dgr_cnv))\n",
    "imax = np.argmax(dgr_cnv)\n",
    "print(cnv.keys()[imax])\n",
    "h = plt.hist(dgr_cnv, bins=50, range=(0,5))"
   ]
  },
  {
   "cell_type": "markdown",
   "metadata": {},
   "source": [
    "### Testing dangerosity"
   ]
  },
  {
   "cell_type": "code",
   "execution_count": 40,
   "metadata": {
    "collapsed": false
   },
   "outputs": [
    {
     "name": "stdout",
     "output_type": "stream",
     "text": [
      "[(0.16666666666666663, 0.3218645714285714), (0.16666666666666663, 0.3218645714285714), (0.16666666666666663, 0.3218645714285714), (0.16666666666666663, 0.3218645714285714), (0.16666666666666663, 0.3218645714285714), (0.16666666666666663, 0.3218645714285714)]  yields  0.321864571429\n"
     ]
    }
   ],
   "source": [
    "for k in range(1,30, 30):\n",
    "    print(cnv[cnv.keys()[k]], ' yields ', dangerosity(cnv[cnv.keys()[k]]))\n",
    "    \n",
    "test_dangerosity_input = [[(1., .5), (1., .5), (1., .5), (1., .5)],\n",
    "                          [(2., 1.)],\n",
    "                          [(10000., 0.)]]\n",
    "test_dangerosity_output = [2., 2., 0]\n",
    "\n",
    "#print( [dangerosity(icnv) for icnv in test_dangerosity_input]) # == test_dangerosity_output\n",
    "assert( [dangerosity(icnv) for icnv in test_dangerosity_input] == test_dangerosity_output)"
   ]
  },
  {
   "cell_type": "markdown",
   "metadata": {},
   "source": [
    "### Printing out results"
   ]
  },
  {
   "cell_type": "code",
   "execution_count": 45,
   "metadata": {
    "collapsed": false
   },
   "outputs": [],
   "source": [
    "outdir = osp.join(osp.expanduser('~'), 'documents','grants_projects','roberto_projects', \\\n",
    "               'guillaume_huguet_CNV', 'File_OK')\n",
    "dtime = datetime.now().strftime(\"%y-%m-%d_h%H-%M\")\n",
    "outfile = dtime + 'dangerosity_cnv_annot_per_gene.txt'\n",
    "\n",
    "fulloutfile = osp.join(outdir, outfile)\n",
    "\n",
    "with open(fulloutfile, 'w') as outf:\n",
    "    for _cnv in cnv:\n",
    "        outf.write(\"\\t\".join([_cnv, str(dangerosity(cnv[_cnv]))]) + \"\\n\")"
   ]
  },
  {
   "cell_type": "code",
   "execution_count": null,
   "metadata": {
    "collapsed": true
   },
   "outputs": [],
   "source": []
  }
 ],
 "metadata": {
  "kernelspec": {
   "display_name": "Python 2",
   "language": "python",
   "name": "python2"
  },
  "language_info": {
   "codemirror_mode": {
    "name": "ipython",
    "version": 2
   },
   "file_extension": ".py",
   "mimetype": "text/x-python",
   "name": "python",
   "nbconvert_exporter": "python",
   "pygments_lexer": "ipython2",
   "version": "2.7.6"
  }
 },
 "nbformat": 4,
 "nbformat_minor": 0
}
